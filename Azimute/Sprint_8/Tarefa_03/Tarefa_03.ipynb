{
 "cells": [
  {
   "attachments": {},
   "cell_type": "markdown",
   "metadata": {},
   "source": [
    "# 1. [Warm up]  \n",
    " - Em Python, declare e inicialize uma lista contendo _250_ inteiros obtidos de forma aleatória. Após, aplicar o método reverse sobre o conteúdo da lista e imprimir o resultado."
   ]
  },
  {
   "cell_type": "code",
   "execution_count": 2,
   "metadata": {},
   "outputs": [
    {
     "name": "stdout",
     "output_type": "stream",
     "text": [
      "[943, 326, 308, 205, 883, 969, 905, 209, 83, 139, 536, 717, 463, 775, 924, 660, 211, 545, 730, 979, 299, 200, 11, 57, 454, 118, 49, 307, 826, 540, 517, 450, 951, 646, 295, 145, 556, 824, 953, 833, 533, 656, 43, 449, 113, 289, 982, 59, 208, 795, 721, 135, 398, 63, 686, 762, 441, 689, 968, 816, 629, 281, 98, 819, 845, 813, 801, 285, 561, 157, 189, 312, 380, 277, 59, 519, 396, 470, 463, 385, 676, 666, 321, 269, 478, 810, 437, 777, 460, 941, 446, 899, 390, 451, 536, 982, 392, 323, 848, 991, 827, 202, 176, 84, 163, 31, 923, 821, 871, 630, 355, 884, 634, 140, 785, 87, 62, 601, 689, 672, 375, 701, 75, 825, 623, 407, 111, 241, 305, 63, 229, 848, 431, 592, 84, 716, 564, 333, 998, 63, 79, 4, 763, 851, 25, 398, 848, 116, 408, 815, 905, 313, 803, 379, 970, 72, 751, 340, 612, 275, 384, 521, 443, 857, 41, 339, 183, 456, 498, 885, 829, 836, 105, 775, 744, 553, 863, 696, 885, 203, 159, 768, 755, 303, 681, 39, 908, 984, 361, 10, 611, 864, 127, 934, 700, 864, 560, 640, 584, 594, 945, 270, 956, 761, 168, 782, 539, 866, 498, 542, 451, 561, 86, 764, 386, 500, 7, 471, 92, 803, 438, 854, 424, 647, 691, 741, 464, 81, 731, 671, 626, 948, 140, 168, 683, 527, 488, 525, 718, 156, 500, 421, 590, 306, 851, 132, 748, 272, 958, 331]\n"
     ]
    }
   ],
   "source": [
    "import random\n",
    "\n",
    "lista_int = []\n",
    "\n",
    "for i in range(250):\n",
    "    aleatorio = random.randint(1,1000)\n",
    "    lista_int.append(aleatorio)\n",
    "\n",
    "lista_int.reverse()\n",
    "\n",
    "print(lista_int)"
   ]
  },
  {
   "attachments": {},
   "cell_type": "markdown",
   "metadata": {},
   "source": [
    "# 2. [Warm up]\n",
    " - Em Python, declare e inicialize uma lista contendo o nome de 20 animais. Ordene-os em ordem crescente e itere sobre os itens, imprimindo um a um (você pode utilizar list comprehension aqui). Na sequência, armazene o conteúdo da lista em um arquivo de texto, um item em cada linha, no formato CSV."
   ]
  },
  {
   "cell_type": "code",
   "execution_count": 8,
   "metadata": {},
   "outputs": [
    {
     "name": "stdout",
     "output_type": "stream",
     "text": [
      "baleia\n",
      "cabrito\n",
      "cachorro\n",
      "cavalo\n",
      "cobra\n",
      "coelho\n",
      "crocodilo\n",
      "elefante\n",
      "gato\n",
      "girafa\n",
      "leão\n",
      "macaco\n",
      "panda\n",
      "peixe\n",
      "pinguim\n",
      "rato\n",
      "tigre\n",
      "urso\n",
      "vaca\n",
      "zebra\n"
     ]
    }
   ],
   "source": [
    "path = f'/mnt/wsl/PHYSICALDRIVE2/Projects/Compasso/Azimute/Sprint_8/Tarefa_03/assets/'\n",
    "\n",
    "animais =[\"gato\", \"cachorro\", \"elefante\", \"leão\", \"girafa\", \"rato\", \"zebra\", \"panda\", \"tigre\", \"macaco\", \"urso\", \"cavalo\", \"vaca\", \"cabrito\", \"coelho\", \"baleia\", \"peixe\", \"pinguim\", \"crocodilo\", \"cobra\"]\n",
    "\n",
    "animais.sort()\n",
    "\n",
    "[print(animal) for animal in animais]\n",
    "\n",
    "with open(path + 'animais.csv', 'w') as texto:\n",
    "    for animal in animais:\n",
    "        texto.write(animal + '\\n')"
   ]
  },
  {
   "attachments": {},
   "cell_type": "markdown",
   "metadata": {},
   "source": [
    "# 3. [Laboratório]\n",
    "- Elaborar um código Python para gerar um dataset de nomes de pessoas. Siga os passos a seguir para realizar a atividade:"
   ]
  },
  {
   "attachments": {},
   "cell_type": "markdown",
   "metadata": {},
   "source": [
    "## Passo 1:  \n",
    " - Instalar biblioteca names para geração de nomes aleatórios. O comando de instalação é pip install names"
   ]
  },
  {
   "cell_type": "code",
   "execution_count": 4,
   "metadata": {},
   "outputs": [
    {
     "name": "stdout",
     "output_type": "stream",
     "text": [
      "3.11.3 (main, Apr  5 2023, 15:52:25) [GCC 12.2.1 20230201]\n"
     ]
    }
   ],
   "source": [
    "\"\"\" USO WSL COM ARCHLINUX E GERENCIADOR DE PACOTES AUR HELPER YAY\"\"\"\n",
    "\"\"\"Tive que instalar o pip depois o names e funcionou\"\"\"\n",
    "#pip install names\n"
   ]
  },
  {
   "attachments": {},
   "cell_type": "markdown",
   "metadata": {},
   "source": [
    "## Passo 2:\n",
    " - Importar as bibliotecas random, time, os e names em seu código"
   ]
  },
  {
   "cell_type": "code",
   "execution_count": 2,
   "metadata": {},
   "outputs": [],
   "source": [
    "import random\n",
    "import time\n",
    "import os\n",
    "import names"
   ]
  },
  {
   "attachments": {},
   "cell_type": "markdown",
   "metadata": {},
   "source": [
    "## Passo 3:\n",
    " - Definir os parâmetros para geração do dataset, ou seja, a quantidades de nomes aleatórios e a quantidade de nomes que devem ser únicos.\n",
    "\n",
    "### Define a semente de aleatoriedade\n",
    "\n",
    "random.seed(40)\n",
    "\n",
    "qtd_nomes_unicos = 3000\n",
    "\n",
    "qtd_nomes_aleatorios = 10000000\n",
    "\n",
    "#### Nota:\n",
    " - Quando trabalhamos com números randômicos em computação, na realidade, estamos falando de valores pseudoaleatórios, uma vez que o computador não consegue gerar números verdadeiramente aleatórios. No caso do Python, a função random.seed inicializa o algoritmo responsável pela geração de valores randômicos. É um processo determinístico,  pois os valores gerados serão sempre os mesmos se utilizado a mesma configuração de inicialização. A este número inicial chamamos de semente de aleatoriedade."
   ]
  },
  {
   "cell_type": "code",
   "execution_count": 5,
   "metadata": {},
   "outputs": [],
   "source": [
    "random.seed(40)\n",
    "qtd_nomes_unicos = 3000\n",
    "qtd_nomes_aleatorios = 10000000"
   ]
  },
  {
   "attachments": {},
   "cell_type": "markdown",
   "metadata": {},
   "source": [
    "## Passo 4: \n",
    " - Gerar os nomes aleatórios.\n",
    "\n",
    "aux=[]\n",
    "\n",
    "for i in range(0, qtd_nomes_unicos):\n",
    "\n",
    "    aux.append(names.get_full_name())\n",
    "\n",
    "print(\"Gerando {} nomes aleatórios\".format(qtd_nomes_aleatorios))\n",
    "\n",
    "dados=[]\n",
    "\n",
    "for i in range(0,qtd_nomes_aleatorios):\n",
    "\n",
    "    dados.append(random.choice(aux))"
   ]
  },
  {
   "cell_type": "code",
   "execution_count": 6,
   "metadata": {},
   "outputs": [
    {
     "name": "stdout",
     "output_type": "stream",
     "text": [
      "Gerando 10000000 nomes aleatórios\n"
     ]
    }
   ],
   "source": [
    "aux=[]\n",
    "\n",
    "for i in range(0, qtd_nomes_unicos):\n",
    "\n",
    "    aux.append(names.get_full_name())\n",
    "\n",
    "\n",
    "print(\"Gerando {} nomes aleatórios\".format(qtd_nomes_aleatorios))\n",
    "\n",
    "dados=[]\n",
    "\n",
    "\n",
    "\n",
    "for i in range(0,qtd_nomes_aleatorios):\n",
    "\n",
    "    dados.append(random.choice(aux))"
   ]
  },
  {
   "attachments": {},
   "cell_type": "markdown",
   "metadata": {},
   "source": [
    "## Passo 5:\n",
    " - Gerar um arquivo de texto contendo todos os nomes, um a cada linha. O nome do arquivo deve ser nomes_aleatorios.txt\n",
    "\n"
   ]
  },
  {
   "cell_type": "code",
   "execution_count": 9,
   "metadata": {},
   "outputs": [],
   "source": [
    "path2 = f'/mnt/wsl/PHYSICALDRIVE2/Projects/Compasso/Azimute/Sprint_8/Tarefa_04/'\n",
    "\n",
    "with open(path2 + \"nomes_aleatorios.txt\", \"w\") as passo5:\n",
    "    for nome in dados:\n",
    "        passo5.write(nome + \"\\n\")"
   ]
  },
  {
   "attachments": {},
   "cell_type": "markdown",
   "metadata": {},
   "source": [
    "## Passo 6: \n",
    "- Abrir o arquivo e verificar seu conteúdo (editor de texto)\n",
    "\n",
    "(OK)"
   ]
  }
 ],
 "metadata": {
  "kernelspec": {
   "display_name": "Python 3",
   "language": "python",
   "name": "python3"
  },
  "language_info": {
   "codemirror_mode": {
    "name": "ipython",
    "version": 3
   },
   "file_extension": ".py",
   "mimetype": "text/x-python",
   "name": "python",
   "nbconvert_exporter": "python",
   "pygments_lexer": "ipython3",
   "version": "3.11.3"
  },
  "orig_nbformat": 4
 },
 "nbformat": 4,
 "nbformat_minor": 2
}
