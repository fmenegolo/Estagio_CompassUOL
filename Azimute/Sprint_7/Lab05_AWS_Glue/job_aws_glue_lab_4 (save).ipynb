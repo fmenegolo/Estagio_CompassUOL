{
	"metadata": {
		"toc-autonumbering": false,
		"toc-showcode": true,
		"toc-showmarkdowntxt": false,
		"toc-showtags": false,
		"kernelspec": {
			"display_name": "Glue PySpark",
			"language": "python",
			"name": "glue_pyspark"
		},
		"language_info": {
			"codemirror_mode": {
				"name": "python",
				"version": 3
			},
			"file_extension": ".py",
			"mimetype": "text/x-python",
			"name": "Python_Glue_Session",
			"pygments_lexer": "python3"
		}
	},
	"nbformat_minor": 4,
	"nbformat": 4,
	"cells": [
		{
			"cell_type": "code",
			"source": "import sys\nfrom awsglue.transforms import *\nfrom awsglue.utils import getResolvedOptions\nfrom pyspark.context import SparkContext\nfrom awsglue.context import GlueContext\nfrom awsglue.job import Job\nfrom pyspark.sql import functions as Func\nfrom pyspark.sql.functions import upper,col,sum,avg,max\n\nsc = SparkContext.getOrCreate()\nglueContext = GlueContext(sc)\nspark = glueContext.spark_session\njob = Job(glueContext)",
			"metadata": {
				"editable": true,
				"vscode": {
					"languageId": "python_glue_session"
				},
				"trusted": true
			},
			"execution_count": 1,
			"outputs": [
				{
					"name": "stdout",
					"text": "Welcome to the Glue Interactive Sessions Kernel\nFor more information on available magic commands, please type %help in any new cell.\n\nPlease view our Getting Started page to access the most up-to-date information on the Interactive Sessions kernel: https://docs.aws.amazon.com/glue/latest/dg/interactive-sessions.html\nInstalled kernel version: 0.37.0 \nAuthenticating with environment variables and user-defined glue_role_arn: arn:aws:iam::214541855063:role/AWSGlueServiceRole-Lab4\nTrying to create a Glue session for the kernel.\nWorker Type: G.1X\nNumber of Workers: 5\nSession ID: 58045d95-c909-4bd7-8454-49fe1a178023\nJob Type: glueetl\nApplying the following default arguments:\n--glue_kernel_version 0.37.0\n--enable-glue-datacatalog true\nWaiting for session 58045d95-c909-4bd7-8454-49fe1a178023 to get into ready status...\nSession 58045d95-c909-4bd7-8454-49fe1a178023 has been created.\n\n",
					"output_type": "stream"
				}
			]
		},
		{
			"cell_type": "markdown",
			"source": "\n- Na célula a seguir, adicione o código necessário para ler o conteúdo do arquivo _nomes.csv_ para um dataframe Spark.\n\n",
			"metadata": {}
		},
		{
			"cell_type": "code",
			"source": "nomes = spark.read.load(\"s3://azimuth.com/lab-glue/input/nomes.csv\", header=True, format=\"csv\", sep=\",\", inferSchema=True)",
			"metadata": {
				"vscode": {
					"languageId": "python_glue_session"
				},
				"trusted": true
			},
			"execution_count": 2,
			"outputs": [
				{
					"name": "stdout",
					"text": "\n",
					"output_type": "stream"
				}
			]
		},
		{
			"cell_type": "markdown",
			"source": "- Imprima o esquema do dataframe",
			"metadata": {}
		},
		{
			"cell_type": "code",
			"source": "nomes.schema",
			"metadata": {
				"vscode": {
					"languageId": "python_glue_session"
				},
				"trusted": true
			},
			"execution_count": 3,
			"outputs": [
				{
					"name": "stdout",
					"text": "StructType(List(StructField(nome,StringType,true),StructField(sexo,StringType,true),StructField(total,IntegerType,true),StructField(ano,IntegerType,true)))\n",
					"output_type": "stream"
				}
			]
		},
		{
			"cell_type": "markdown",
			"source": "- Na próxima célula, escreva o código necessário para alterar a caixa dos valores da coluna _nome_ para MAIÚSCULO",
			"metadata": {}
		},
		{
			"cell_type": "code",
			"source": "nomes.select(\"*\", upper(col(\"nome\"))).show()\n",
			"metadata": {
				"vscode": {
					"languageId": "python_glue_session"
				},
				"trusted": true
			},
			"execution_count": 4,
			"outputs": [
				{
					"name": "stdout",
					"text": "+---------+----+-----+----+-----------+\n|     nome|sexo|total| ano|upper(nome)|\n+---------+----+-----+----+-----------+\n| Jennifer|   F|54336|1983|   JENNIFER|\n|  Jessica|   F|45278|1983|    JESSICA|\n|   Amanda|   F|33752|1983|     AMANDA|\n|   Ashley|   F|33292|1983|     ASHLEY|\n|    Sarah|   F|27228|1983|      SARAH|\n|  Melissa|   F|23472|1983|    MELISSA|\n|   Nicole|   F|22392|1983|     NICOLE|\n|Stephanie|   F|22323|1983|  STEPHANIE|\n|  Heather|   F|20749|1983|    HEATHER|\n|Elizabeth|   F|19838|1983|  ELIZABETH|\n|  Crystal|   F|17904|1983|    CRYSTAL|\n|      Amy|   F|17095|1983|        AMY|\n| Michelle|   F|16828|1983|   MICHELLE|\n|  Tiffany|   F|15960|1983|    TIFFANY|\n| Kimberly|   F|15374|1983|   KIMBERLY|\n|Christina|   F|15359|1983|  CHRISTINA|\n|    Amber|   F|14886|1983|      AMBER|\n|     Erin|   F|14835|1983|       ERIN|\n|  Rebecca|   F|14711|1983|    REBECCA|\n|   Rachel|   F|14588|1983|     RACHEL|\n+---------+----+-----+----+-----------+\nonly showing top 20 rows\n",
					"output_type": "stream"
				}
			]
		},
		{
			"cell_type": "markdown",
			"source": "- Apresente a contagem de linhas contidas no dataframe",
			"metadata": {}
		},
		{
			"cell_type": "code",
			"source": "nomes.count()",
			"metadata": {
				"vscode": {
					"languageId": "python_glue_session"
				},
				"trusted": true
			},
			"execution_count": 5,
			"outputs": [
				{
					"name": "stdout",
					"text": "1825433\n",
					"output_type": "stream"
				}
			]
		},
		{
			"cell_type": "markdown",
			"source": "- Agora, apresente a contagem de nomes, agrupando os dados do dataframe pelas colunas _ano_ e _sexo_. Ordene os dados de modo que o ano mais recente aparece como primeiro registro do dataframe.",
			"metadata": {}
		},
		{
			"cell_type": "code",
			"source": "nomes.groupBy(\"ano\",\"sexo\").agg(sum(\"total\")).orderBy(Func.col(\"ano\").desc()).show()",
			"metadata": {
				"vscode": {
					"languageId": "python_glue_session"
				},
				"tags": [],
				"trusted": true
			},
			"execution_count": 6,
			"outputs": [
				{
					"name": "stdout",
					"text": "+----+----+----------+\n| ano|sexo|sum(total)|\n+----+----+----------+\n|2014|   M|   1901376|\n|2014|   F|   1768775|\n|2013|   F|   1745339|\n|2013|   M|   1881463|\n|2012|   F|   1753922|\n|2012|   M|   1889414|\n|2011|   M|   1893230|\n|2011|   F|   1753500|\n|2010|   F|   1772738|\n|2010|   M|   1913851|\n|2009|   M|   1979303|\n|2009|   F|   1832925|\n|2008|   M|   2036289|\n|2008|   F|   1887234|\n|2007|   M|   2072139|\n|2007|   F|   1919408|\n|2006|   M|   2052377|\n|2006|   F|   1898463|\n|2005|   F|   1845379|\n|2005|   M|   1994841|\n+----+----+----------+\nonly showing top 20 rows\n",
					"output_type": "stream"
				}
			]
		},
		{
			"cell_type": "markdown",
			"source": "- Qual foi o nome feminino com mais registro e em que ano?",
			"metadata": {}
		},
		{
			"cell_type": "code",
			"source": "nomes.filter(Func.col(\"sexo\") == \"F\").orderBy(Func.col(\"total\").desc()).show(1)",
			"metadata": {
				"vscode": {
					"languageId": "python_glue_session"
				},
				"tags": [],
				"trusted": true
			},
			"execution_count": 7,
			"outputs": [
				{
					"name": "stdout",
					"text": "+-----+----+-----+----+\n| nome|sexo|total| ano|\n+-----+----+-----+----+\n|Linda|   F|99680|1947|\n+-----+----+-----+----+\nonly showing top 1 row\n",
					"output_type": "stream"
				}
			]
		},
		{
			"cell_type": "markdown",
			"source": "- Qual foi o nome masculino com mais registro e em que ano?",
			"metadata": {}
		},
		{
			"cell_type": "code",
			"source": "nomes.filter(Func.col(\"sexo\") == \"M\").orderBy(Func.col(\"total\").desc()).show(1)",
			"metadata": {
				"vscode": {
					"languageId": "python_glue_session"
				},
				"trusted": true
			},
			"execution_count": 8,
			"outputs": [
				{
					"name": "stdout",
					"text": "+-----+----+-----+----+\n| nome|sexo|total| ano|\n+-----+----+-----+----+\n|James|   M|94755|1947|\n+-----+----+-----+----+\nonly showing top 1 row\n",
					"output_type": "stream"
				}
			]
		},
		{
			"cell_type": "markdown",
			"source": "- Apresente o total de registros (masculinos e femininos) para cada ano presente no dataframe. Considere apenas as primeiras 10 linhas, ordenadas pelo ano, de forma crescente.",
			"metadata": {}
		},
		{
			"cell_type": "code",
			"source": "nomes.groupBy(\"ano\").agg(sum(\"total\")).orderBy(Func.col(\"ano\").desc()).show(10)",
			"metadata": {
				"vscode": {
					"languageId": "python_glue_session"
				},
				"trusted": true
			},
			"execution_count": 9,
			"outputs": [
				{
					"name": "stdout",
					"text": "+----+----------+\n| ano|sum(total)|\n+----+----------+\n|2014|   3670151|\n|2013|   3626802|\n|2012|   3643336|\n|2011|   3646730|\n|2010|   3686589|\n|2009|   3812228|\n|2008|   3923523|\n|2007|   3991547|\n|2006|   3950840|\n|2005|   3840220|\n+----+----------+\nonly showing top 10 rows\n",
					"output_type": "stream"
				}
			]
		},
		{
			"cell_type": "markdown",
			"source": "- Escreva o conteúdo do dataframe com os valores de nome em maiúsculo no S3. Atenção aos requisitos:\n  - A gravação deve ocorrer no subdiretório _frequencia_registro_nomes_eua_ do path s3://\\<BUCKET\\>/lab-glue/\n  - O formato deve ser JSON\n  - O particionamento deverá ser realizado pelas colunas _sexo_ e _ano_ (nesta ordem)",
			"metadata": {}
		},
		{
			"cell_type": "code",
			"source": "dfnomes = nomes.select(\"*\", upper(col(\"nome\")))\ndfnomes.write.partitionBy(\"sexo\",\"ano\").format(\"json\").save(\"s3://azimuth.com/lab-glue/frequencia_registro_nomes_eua/\")",
			"metadata": {
				"vscode": {
					"languageId": "python_glue_session"
				},
				"trusted": true
			},
			"execution_count": 15,
			"outputs": [
				{
					"name": "stdout",
					"text": "\n",
					"output_type": "stream"
				}
			]
		},
		{
			"cell_type": "code",
			"source": "job.commit()",
			"metadata": {
				"vscode": {
					"languageId": "python_glue_session"
				},
				"trusted": true
			},
			"execution_count": 16,
			"outputs": [
				{
					"name": "stdout",
					"text": "\n",
					"output_type": "stream"
				}
			]
		},
		{
			"cell_type": "code",
			"source": "",
			"metadata": {},
			"execution_count": null,
			"outputs": []
		}
	]
}