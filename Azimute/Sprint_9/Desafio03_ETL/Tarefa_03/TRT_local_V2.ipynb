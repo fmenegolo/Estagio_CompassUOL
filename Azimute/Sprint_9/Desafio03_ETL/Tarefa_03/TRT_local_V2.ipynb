{
	"cells": [
		{
			"cell_type": "code",
			"execution_count": 19,
			"metadata": {
				"trusted": true
			},
			"outputs": [
				{
					"name": "stdout",
					"output_type": "stream",
					"text": [
						"Requirement already satisfied: pyspark in /opt/apache-spark/python (3.3.0)\n",
						"Requirement already satisfied: py4j==0.10.9.5 in /home/fmenegolo/.asdf/installs/python/3.9.1/lib/python3.9/site-packages (from pyspark) (0.10.9.5)\n",
						"\u001b[33mWARNING: You are using pip version 20.2.3; however, version 23.1.2 is available.\n",
						"You should consider upgrading via the '/home/fmenegolo/.asdf/installs/python/3.9.1/bin/python3.9 -m pip install --upgrade pip' command.\u001b[0m\n",
						"Reshimming asdf python...\n"
					]
				}
			],
			"source": [
				"!pip install pyspark"
			]
		},
		{
			"cell_type": "code",
			"execution_count": 20,
			"metadata": {},
			"outputs": [],
			"source": [
				"from pyspark.sql import SparkSession\n",
				"from pyspark import SparkContext, SQLContext\n",
				"from pyspark.sql.functions import col, substring, when, regexp_replace, size, expr\n",
				"from pyspark.sql.types import StructType, StructField, StringType, FloatType, IntegerType\n",
				"\n",
				"\n",
				"spark = SparkSession \\\n",
				"    .builder \\\n",
				"    .master(\"local[*]\")\\\n",
				"    .appName(\"ELT TRUSTED\") \\\n",
				"    .getOrCreate()\n"
			]
		},
		{
			"cell_type": "code",
			"execution_count": 21,
			"metadata": {},
			"outputs": [],
			"source": [
				"# Definir o esquema para o DataFrame df_movies_IMDB\n",
				"schema_movies_IMDB = StructType([\n",
				"    StructField(\"id\", StringType(), True),\n",
				"    StructField(\"tituloPincipal\", StringType(), True),\n",
				"    StructField(\"tituloOriginal\", StringType(), True),\n",
				"    StructField(\"anoLancamento\", StringType(), True),\n",
				"    StructField(\"tempoMinutos\", StringType(), True),\n",
				"    StructField(\"genero\", StringType(), True),\n",
				"    StructField(\"notaMedia\", FloatType(), True),  # Definir tipo como FloatType()\n",
				"    StructField(\"numeroVotos\", IntegerType(), True),  # Definir tipo como IntegerType()\n",
				"    StructField(\"generoArtista\", StringType(), True),\n",
				"    StructField(\"personagem\", StringType(), True),\n",
				"    StructField(\"nomeArtista\", StringType(), True),\n",
				"    StructField(\"anoNascimento\", StringType(), True),  \n",
				"    StructField(\"anoFalecimento\", StringType(), True),  \n",
				"    StructField(\"profissao\", StringType(), True),\n",
				"    StructField(\"titulosMaisConhecidos\", StringType(), True)\n",
				"])\n",
				"\n",
				"# Definir o esquema para o DataFrame df_series_IMDB\n",
				"schema_series_IMDB = StructType([\n",
				"    StructField(\"id\", StringType(), True),\n",
				"    StructField(\"tituloPincipal\", StringType(), True),\n",
				"    StructField(\"tituloOriginal\", StringType(), True),\n",
				"    StructField(\"anoLancamento\", StringType(), True), \n",
				"    StructField(\"anoTermino\", StringType(), True),  \n",
				"    StructField(\"tempoMinutos\", IntegerType(), True),  # Definir tipo como IntegerType()\n",
				"    StructField(\"genero\", StringType(), True),\n",
				"    StructField(\"notaMedia\", FloatType(), True),  # Definir tipo como FloatType()\n",
				"    StructField(\"numeroVotos\", IntegerType(), True),  # Definir tipo como IntegerType()\n",
				"    StructField(\"generoArtista\", StringType(), True),\n",
				"    StructField(\"personagem\", StringType(), True),\n",
				"    StructField(\"nomeArtista\", StringType(), True),\n",
				"    StructField(\"anoNascimento\", StringType(), True),  \n",
				"    StructField(\"anoFalecimento\", StringType(), True),  \n",
				"    StructField(\"profissao\", StringType(), True),\n",
				"    StructField(\"titulosMaisConhecidos\", StringType(), True)\n",
				"])"
			]
		},
		{
			"cell_type": "code",
			"execution_count": 22,
			"metadata": {},
			"outputs": [],
			"source": [
				"path1 = f\"/mnt/wsl/PHYSICALDRIVE2/Projects/Compasso/Azimute/Sprint_7/Desafio01_ETL/assets/\"\n",
				"df_movies_IMDB = spark.read.option(\"delimiter\", \"|\").schema(schema_movies_IMDB).csv(path1 + 'movies.csv', header=True)\n",
				"df_series_IMDB = spark.read.option(\"delimiter\", \"|\").schema(schema_series_IMDB).csv(path1 + 'series.csv', header=True)\n",
				"\n",
				"path2 = f\"/mnt/wsl/PHYSICALDRIVE2/Projects/Compasso/Azimute/Sprint_8/Desafio02_ETL/Tarefa_02/assets/\"\n",
				"df_movies_TMDB = spark.read.json(path2 + 'movies.json') \n",
				"df_series_TMDB = spark.read.json(path2 + 'series.json')"
			]
		},
		{
			"cell_type": "code",
			"execution_count": 23,
			"metadata": {},
			"outputs": [],
			"source": [
				"df_movies_IMDB = df_movies_IMDB.withColumnRenamed(\"tituloPincipal\", \"tituloPrincipal\")\n",
				"df_series_IMDB = df_series_IMDB.withColumnRenamed(\"tituloPincipal\", \"tituloPrincipal\")"
			]
		},
		{
			"cell_type": "markdown",
			"metadata": {},
			"source": [
				"## 2. \n",
				" Filtro os Filmes do BD Local com lista de filmes do TMDB"
			]
		},
		{
			"cell_type": "code",
			"execution_count": 36,
			"metadata": {
				"trusted": true
			},
			"outputs": [],
			"source": [
				"\n",
				"# Converter a coluna 'title' do DataFrame JSON para um array de palavras e extrair o ano de lançamento\n",
				"df_movies_TMDB_titulos_datas = df_movies_TMDB.select(\n",
				"    regexp_replace(col('title'), r\"[^a-zA-Z0-9\\s]\", \"\").alias('title_replaced'),\n",
				"    substring(col('release_date'), 1, 4).alias('releaseDate')\n",
				")\n",
				"\n",
				"# Aplicar substituição nos títulos\n",
				"df_movies_IMDB = df_movies_IMDB.withColumn('tituloPrincipal_replaced', regexp_replace(col('tituloPrincipal'), r\"[^a-zA-Z0-9\\s]\", \"\"))\n",
				"\n",
				"# Realizar a filtragem dos títulos\n",
				"df_movies_IMDB_trusted = df_movies_IMDB.join(df_movies_TMDB_titulos_datas,\n",
				"    expr(\n",
				"        \"(size(split(tituloPrincipal_replaced, ' ')) = 1 AND \" +\n",
				"        \"size(filter(split(tituloPrincipal_replaced, ' '), x -> length(x) > 4 AND instr(title_replaced, x) > 0)) >= 1) OR \" +\n",
				"        \"(size(split(tituloPrincipal_replaced, ' ')) = 2 AND \" +\n",
				"        \"size(filter(split(tituloPrincipal_replaced, ' '), x -> length(x) >= 1 AND instr(title_replaced, x) > 0)) >= 2) OR \" +\n",
				"        \"(size(split(tituloPrincipal_replaced, ' ')) >= 3 AND \" +\n",
				"        \"size(filter(split(tituloPrincipal_replaced, ' '), x -> length(x) >= 3 AND instr(title_replaced, x) > 0)) >= 2)\"\n",
				"    ) &\n",
				"    (df_movies_IMDB['anoLancamento'] == df_movies_TMDB_titulos_datas['releaseDate']) &\n",
				"    (col('tituloPrincipal_replaced').isNotNull()) &\n",
				"    (col('tituloPrincipal_replaced') != '') &\n",
				"    (col('title_replaced').isNotNull()) &\n",
				"    (col('title_replaced') != ''),\n",
				"    'inner')\n",
				"\n",
				"# Remover as colunas 'title' e 'releaseDate' do DataFrame\n",
				"df_movies_IMDB_trusted = df_movies_IMDB_trusted.drop('title_replaced', 'releaseDate')\n",
				"\n",
				"# Trata os valores \"NA\" na coluna \"anoFalecimento\"\n",
				"df_movies_IMDB_trusted = df_movies_IMDB_trusted.withColumn(\"anoFalecimento\", when(col(\"anoFalecimento\") == \"\\\\N\", None).otherwise(col(\"anoFalecimento\")))\n",
				"df_movies_IMDB_trusted = df_movies_IMDB_trusted.withColumn(\"anoNascimento\", when(col(\"anoNascimento\") == \"\\\\N\", None).otherwise(col(\"anoNascimento\")))\n",
				"df_movies_IMDB_trusted = df_movies_IMDB_trusted.withColumn(\"tempoMinutos\", when(col(\"tempoMinutos\") == \"\\\\N\", None).otherwise(col(\"tempoMinutos\")))\n",
				"df_movies_IMDB_trusted = df_movies_IMDB_trusted.withColumn(\"notaMedia\", when(col(\"notaMedia\") == \"\\\\N\", None).otherwise(col(\"notaMedia\")))\n",
				"df_movies_IMDB_trusted = df_movies_IMDB_trusted.withColumn(\"numeroVotos\", when(col(\"numeroVotos\") == \"\\\\N\", None).otherwise(col(\"numeroVotos\")))\n",
				"\n",
				"# Elimina possiveis Redundâncias\n",
				"df_movies_IMDB_trusted = df_movies_IMDB_trusted.distinct()"
			]
		},
		{
			"cell_type": "code",
			"execution_count": 25,
			"metadata": {},
			"outputs": [
				{
					"data": {
						"text/plain": [
							"'\\ndf_movies_IMDB_trusted.show(10)\\nprint(\"Número de linhas antes Filmes IMDB: \", df_movies_IMDB.count())\\nprint(\"Número de linhas no resultado: \", df_movies_IMDB_trusted.count())\\ncount = df_movies_IMDB_trusted.select(\\'title_replaced\\').distinct().count()\\nprint(\"Número de Filmes Relacionados no resultado: \", count)\\n'"
						]
					},
					"execution_count": 25,
					"metadata": {},
					"output_type": "execute_result"
				}
			],
			"source": [
				"\"\"\"\n",
				"df_movies_IMDB_trusted.show(10)\n",
				"print(\"Número de linhas antes Filmes IMDB: \", df_movies_IMDB.count())\n",
				"print(\"Número de linhas no resultado: \", df_movies_IMDB_trusted.count())\n",
				"count = df_movies_IMDB_trusted.select('title_replaced').distinct().count()\n",
				"print(\"Número de Filmes Relacionados no resultado: \", count)\n",
				"\"\"\""
			]
		},
		{
			"cell_type": "markdown",
			"metadata": {},
			"source": [
				"## 3. \n",
				"Filtro as Series do BD Local com lista de series do TMDB"
			]
		},
		{
			"cell_type": "code",
			"execution_count": 26,
			"metadata": {
				"trusted": true
			},
			"outputs": [],
			"source": [
				"# Converter a coluna 'name' e a substring de 'first_air_date' do DataFrame JSON para o DataFrame do TMDB\n",
				"df_series_TMDB_titulos_datas = df_series_TMDB.select(regexp_replace(col('name'), r\"[^a-zA-Z0-9\\s]\", \"\").alias('title_replaced'),\n",
				"    substring(col('first_air_date'), 1, 4).alias('releaseDate'))\n",
				"\n",
				"# Aplicar substituição nos títulos\n",
				"df_series_IMDB = df_series_IMDB.withColumn('tituloPrincipal_replaced', regexp_replace(col('tituloPrincipal'), r\"[^a-zA-Z0-9\\s]\", \"\"))\n",
				"\n",
				"# Realizar a filtragem dos títulos e anos de lançamento\n",
				"\n",
				"df_series_IMDB_layer1 = df_series_IMDB.join(df_series_TMDB_titulos_datas,\n",
				"    expr(\n",
				"        \"(size(split(tituloPrincipal_replaced, ' ')) = 1 AND \" +\n",
				"        \"size(filter(split(tituloPrincipal_replaced, ' '), x -> length(x) > 3 AND instr(title_replaced, x) > 0)) >= 1) OR \" +\n",
				"        \"(size(split(tituloPrincipal_replaced, ' ')) = 2 AND \" +\n",
				"        \"size(filter(split(tituloPrincipal_replaced, ' '), x -> length(x) >= 1 AND instr(title_replaced, x) > 0)) >= 2) OR \" +\n",
				"        \"(size(split(tituloPrincipal_replaced, ' ')) >= 3 AND \" +\n",
				"        \"size(filter(split(tituloPrincipal_replaced, ' '), x -> length(x) > 3 AND instr(title_replaced, x) > 0)) >= 2)\"\n",
				"    ) &\n",
				"    (df_series_IMDB['anoLancamento'] == df_series_TMDB_titulos_datas['releaseDate']) &\n",
				"    (col('tituloPrincipal_replaced').isNotNull()) &\n",
				"    (col('tituloPrincipal_replaced') != '') &\n",
				"    (col('title_replaced').isNotNull()) &\n",
				"    (col('title_replaced') != ''),\n",
				"    'inner')\n",
				"\n",
				"# Remover as colunas 'title' e 'releaseDate' do DataFrame\n",
				"df_series_IMDB_layer1 = df_series_IMDB_layer1.drop('title_replaced', 'releaseDate')\n",
				"\n",
				"df_series_IMDB_layer1 = df_series_IMDB_layer1.withColumn(\"anoTermino\", when(col(\"anoTermino\") == \"\\\\N\", None).otherwise(col(\"anoTermino\")))\n",
				"df_series_IMDB_layer1 = df_series_IMDB_layer1.withColumn(\"tempoMinutos\", when(col(\"tempoMinutos\") == \"\\\\N\", None).otherwise(col(\"tempoMinutos\")))\n",
				"df_series_IMDB_layer1 = df_series_IMDB_layer1.withColumn(\"notaMedia\", when(col(\"notaMedia\") == \"\\\\N\", None).otherwise(col(\"notaMedia\")))\n",
				"df_series_IMDB_layer1 = df_series_IMDB_layer1.withColumn(\"numeroVotos\", when(col(\"numeroVotos\") == \"\\\\N\", None).otherwise(col(\"numeroVotos\")))\n",
				"df_series_IMDB_layer1 = df_series_IMDB_layer1.withColumn(\"anoNascimento\", when(col(\"anoNascimento\") == \"\\\\N\", None).otherwise(col(\"anoNascimento\")))\n",
				"df_series_IMDB_layer1 = df_series_IMDB_layer1.withColumn(\"anoFalecimento\", when(col(\"anoFalecimento\") == \"\\\\N\", None).otherwise(col(\"anoFalecimento\")))\n",
				"df_series_IMDB_layer1 = df_series_IMDB_layer1.withColumn(\"anoFalecimento\", when(col(\"anoFalecimento\") == \"\\\\N\", None).otherwise(col(\"anoFalecimento\")))\n",
				"\n",
				"# Elimina possiveis Redundâncias\n",
				"df_series_IMDB_layer1 = df_series_IMDB_layer1.distinct()\n",
				"\n"
			]
		},
		{
			"cell_type": "code",
			"execution_count": 27,
			"metadata": {},
			"outputs": [
				{
					"data": {
						"text/plain": [
							"'\\ndf_series_IMDB_layer1.show(10)\\nprint(\"Número de linhas antes Series IMDB: \", df_series_IMDB.count())\\nprint(\"Número de linhas no resultado: \", df_series_IMDB_layer1.count())\\ncount = df_series_IMDB_layer1.select(\\'title_replaced\\').distinct().count()\\nprint(\"Número de Series Relacionadas no resultado: \", count)\\n'"
						]
					},
					"execution_count": 27,
					"metadata": {},
					"output_type": "execute_result"
				}
			],
			"source": [
				"\"\"\"\n",
				"df_series_IMDB_layer1.show(10)\n",
				"print(\"Número de linhas antes Series IMDB: \", df_series_IMDB.count())\n",
				"print(\"Número de linhas no resultado: \", df_series_IMDB_layer1.count())\n",
				"count = df_series_IMDB_layer1.select('title_replaced').distinct().count()\n",
				"print(\"Número de Series Relacionadas no resultado: \", count)\n",
				"\"\"\""
			]
		},
		{
			"attachments": {},
			"cell_type": "markdown",
			"metadata": {},
			"source": [
				"## 4. \n",
				"Filtro as Series do TMDB com lista de Filmes do TMDB\n"
			]
		},
		{
			"cell_type": "code",
			"execution_count": 28,
			"metadata": {},
			"outputs": [],
			"source": [
				"\n",
				"# Aplicar substituição nos títulos\n",
				"df_series_TMDB = df_series_TMDB.withColumn('name_replaced', regexp_replace(col('name'), r\"[^a-zA-Z0-9\\s]\", \"\"))\n",
				"\n",
				"# Realizar a filtragem dos títulos\n",
				"df_series_TMDB_trusted = df_series_TMDB.join(df_movies_TMDB_titulos_datas,\n",
				"    expr(\n",
				"        \"(size(split(name_replaced, ' ')) = 1 AND \" +\n",
				"        \"size(filter(split(name_replaced, ' '), x -> length(x) > 4 AND instr(title_replaced, x) > 0)) >= 1) OR \" +\n",
				"        \"(size(split(name_replaced, ' ')) = 2 AND \" +\n",
				"        \"size(filter(split(name_replaced, ' '), x -> length(x) >= 1 AND instr(title_replaced, x) > 0)) >= 2) OR \" +\n",
				"        \"(size(split(name_replaced, ' ')) >= 3 AND \" +\n",
				"        \"size(filter(split(name_replaced, ' '), x -> length(x) > 3 AND instr(title_replaced, x) > 0)) >= 2)\"\n",
				"    ) &\n",
				"    (col('name_replaced').isNotNull()) &\n",
				"    (col('name_replaced') != '') &\n",
				"    (col('title_replaced').isNotNull()) &\n",
				"    (col('title_replaced') != ''),\n",
				"    'inner')\n",
				"\n",
				"# Retira colunas irrelevantes\n",
				"df_series_TMDB_trusted = df_series_TMDB_trusted.drop('titulo','backdrop_path','poster_path')\n",
				"df_series_TMDB_trusted = df_series_TMDB_trusted.drop('title_replaced','releaseDate')\n",
				"\n",
				"# Trata os valores \"NA\" nas colunas\n",
				"df_series_TMDB_trusted = df_series_TMDB_trusted.withColumn(\"first_air_date\", when(col(\"first_air_date\") == \"\", None).otherwise(col(\"first_air_date\")))\n",
				"df_series_TMDB_trusted = df_series_TMDB_trusted.withColumn(\"genre_ids\", when(size(col(\"genre_ids\")) == 0, None).otherwise(col(\"genre_ids\")))\n",
				"df_series_TMDB_trusted = df_series_TMDB_trusted.withColumn(\"overview\", when(col(\"overview\") == \"\", None).otherwise(col(\"overview\")))\n",
				"df_series_TMDB_trusted = df_series_TMDB_trusted.withColumn(\"popularity\", when(col(\"popularity\") == \"\", None).otherwise(col(\"popularity\")))\n",
				"df_series_TMDB_trusted = df_series_TMDB_trusted.withColumn(\"vote_average\", when(col(\"vote_average\") == \"\", None).otherwise(col(\"vote_average\")))\n",
				"df_series_TMDB_trusted = df_series_TMDB_trusted.withColumn(\"vote_count\", when(col(\"vote_count\") == \"\", None).otherwise(col(\"vote_count\")))\n",
				"\n",
				"# Elimina possiveis Redundâncias\n",
				"df_series_TMDB_trusted = df_series_TMDB_trusted.distinct()"
			]
		},
		{
			"cell_type": "code",
			"execution_count": 29,
			"metadata": {},
			"outputs": [
				{
					"data": {
						"text/plain": [
							"'\\ndf_series_TMDB_trusted.show(10)\\nprint(\"Número de linhas antes Series TMDB: \", df_series_TMDB.count())\\nprint(\"Número de linhas no resultado: \", df_series_TMDB_trusted.count())\\ncount = df_series_TMDB_trusted.select(\\'title_replaced\\').distinct().count()\\nprint(\"Número de Filmes relacionados no resultado2: \", count)\\n'"
						]
					},
					"execution_count": 29,
					"metadata": {},
					"output_type": "execute_result"
				}
			],
			"source": [
				"\"\"\"\n",
				"df_series_TMDB_trusted.show(10)\n",
				"print(\"Número de linhas antes Series TMDB: \", df_series_TMDB.count())\n",
				"print(\"Número de linhas no resultado: \", df_series_TMDB_trusted.count())\n",
				"count = df_series_TMDB_trusted.select('title_replaced').distinct().count()\n",
				"print(\"Número de Filmes relacionados no resultado2: \", count)\n",
				"\"\"\""
			]
		},
		{
			"attachments": {},
			"cell_type": "markdown",
			"metadata": {},
			"source": [
				"## 5. \n",
				"Filtro as Series do BD Local layer1 que foram filtradas no passo 3\n",
				"\n",
				"com a dos Series do TMDB Trusted que foram filtradas no passo 4"
			]
		},
		{
			"cell_type": "code",
			"execution_count": 30,
			"metadata": {},
			"outputs": [],
			"source": [
				"# Converter a coluna 'title' do DataFrame JSON para um array de palavras e extrair o ano de lançamento\n",
				"df_series_TMDB_titulos_datas = df_series_TMDB_trusted.select(regexp_replace(col('name'), r\"[^a-zA-Z0-9\\s]\", \"\").alias('title_replaced'),\n",
				"    substring(col('first_air_date'), 1, 4).alias('releaseDate'))\n",
				"\n",
				"# Drop na coluna para evitar ambiguidade (somente para versao local)\n",
				"#df_series_IMDB_layer1 = df_series_IMDB_layer1.drop('title_replaced', 'releaseDate')\n",
				"\n",
				"# Realizar a filtragem dos títulos e anos de lançamento\n",
				"df_series_IMDB_trusted = df_series_IMDB_layer1.join(df_series_TMDB_titulos_datas,\n",
				"    expr(\n",
				"        \"(size(split(tituloPrincipal_replaced, ' ')) = 1 AND \" +\n",
				"        \"size(filter(split(tituloPrincipal_replaced, ' '), x -> length(x) > 3 AND instr(title_replaced, x) > 0)) >= 1) OR \" +\n",
				"        \"(size(split(tituloPrincipal_replaced, ' ')) = 2 AND \" +\n",
				"        \"size(filter(split(tituloPrincipal_replaced, ' '), x -> length(x) >= 1 AND instr(title_replaced, x) > 0)) >= 2) OR \" +\n",
				"        \"(size(split(tituloPrincipal_replaced, ' ')) >= 3 AND \" +\n",
				"        \"size(filter(split(tituloPrincipal_replaced, ' '), x -> length(x) > 3 AND instr(title_replaced, x) > 0)) >= 2)\"\n",
				"    ) &\n",
				"    (df_series_IMDB['anoLancamento'] == df_series_TMDB_titulos_datas['releaseDate']) &\n",
				"    (col('tituloPrincipal_replaced').isNotNull()) &\n",
				"    (col('tituloPrincipal_replaced') != '') &\n",
				"    (col('title_replaced').isNotNull()) &\n",
				"    (col('title_replaced') != ''),\n",
				"    'inner')\n",
				"\n",
				"# Retira colunas irrelevantes (somete para versão AWS)\n",
				"df_series_IMDB_layer1 = df_series_IMDB_layer1.drop('title_replaced', 'releaseDate')\n",
				"\n",
				"# Trata os valores \"NA\" nas colunas\n",
				"df_series_IMDB_trusted = df_series_IMDB_trusted.withColumn(\"anoTermino\", when(col(\"anoTermino\") == \"\\\\N\", None).otherwise(col(\"anoTermino\")))\n",
				"df_series_IMDB_trusted = df_series_IMDB_trusted.withColumn(\"tempoMinutos\", when(col(\"tempoMinutos\") == \"\\\\N\", None).otherwise(col(\"tempoMinutos\")))\n",
				"df_series_IMDB_trusted = df_series_IMDB_trusted.withColumn(\"genero\", when(col(\"genero\") == \"\\\\N\", None).otherwise(col(\"genero\")))\n",
				"df_series_IMDB_trusted = df_series_IMDB_trusted.withColumn(\"notaMedia\", when(col(\"notaMedia\") == \"\\\\N\", None).otherwise(col(\"notaMedia\")))\n",
				"df_series_IMDB_trusted = df_series_IMDB_trusted.withColumn(\"numeroVotos\", when(col(\"numeroVotos\") == \"\\\\N\", None).otherwise(col(\"numeroVotos\")))\n",
				"df_series_IMDB_trusted = df_series_IMDB_trusted.withColumn(\"anoNascimento\", when(col(\"anoNascimento\") == \"\\\\N\", None).otherwise(col(\"anoNascimento\")))\n",
				"df_series_IMDB_trusted = df_series_IMDB_trusted.withColumn(\"anoNascimento\", when(col(\"anoNascimento\") == \"\\\\N\", None).otherwise(col(\"anoNascimento\")))\n",
				"df_series_IMDB_trusted = df_series_IMDB_trusted.withColumn(\"anoFalecimento\", when(col(\"anoFalecimento\") == \"\\\\N\", None).otherwise(col(\"anoFalecimento\")))\n",
				"\n",
				"\n",
				"# Remover linhas duplicadas no resultado\n",
				"df_series_IMDB_trusted = df_series_IMDB_trusted.distinct()\n"
			]
		},
		{
			"cell_type": "code",
			"execution_count": 31,
			"metadata": {},
			"outputs": [
				{
					"data": {
						"text/plain": [
							"'\\ndf_series_IMDB_trusted.show(10)\\nprint(\"Número de linhas antes IMDB Layer 1: \", df_series_IMDB_layer1.count())\\nprint(\"Número de linhas no resultado: \", df_series_IMDB_trusted.count())\\ncount = df_series_IMDB_trusted.select(\\'title_replaced\\').distinct().count()\\nprint(\"Número de Series Relacionas no resultado: \", count)\\n'"
						]
					},
					"execution_count": 31,
					"metadata": {},
					"output_type": "execute_result"
				}
			],
			"source": [
				"\"\"\"\n",
				"df_series_IMDB_trusted.show(10)\n",
				"print(\"Número de linhas antes IMDB Layer 1: \", df_series_IMDB_layer1.count())\n",
				"print(\"Número de linhas no resultado: \", df_series_IMDB_trusted.count())\n",
				"count = df_series_IMDB_trusted.select('title_replaced').distinct().count()\n",
				"print(\"Número de Series Relacionas no resultado: \", count)\n",
				"\"\"\""
			]
		},
		{
			"attachments": {},
			"cell_type": "markdown",
			"metadata": {},
			"source": [
				"## 6.\n",
				"Elimina algumas colunas não relevantes do df_movies_TMDB "
			]
		},
		{
			"cell_type": "code",
			"execution_count": 32,
			"metadata": {
				"trusted": true
			},
			"outputs": [
				{
					"data": {
						"text/plain": [
							"'\\ndf_movies_TMDB.show(5)\\ndf_movies_TMDB_trusted\\ndf_movies_TMDB_trusted.show(5)\\ndf_movies_TMDB_trusted = df_series_IMDB_trusted.distinct()\\n#print(\"Número de linhas antes tMDB: \", df_movies_TMDB_trusted.count())'"
						]
					},
					"execution_count": 32,
					"metadata": {},
					"output_type": "execute_result"
				}
			],
			"source": [
				"# remove os colunas não relevantes\n",
				"df_movies_TMDB_trusted = df_movies_TMDB.drop('adult','backdrop_path','poster_path','video')\n",
				"\n",
				"# Trata os valores \"NA\" nas colunas\n",
				"df_movies_TMDB_trusted = df_movies_TMDB_trusted.withColumn(\"popularity\", when(col(\"popularity\") == \"\", None).otherwise(col(\"popularity\")))\n",
				"df_movies_TMDB_trusted = df_movies_TMDB_trusted.withColumn(\"vote_average\", when(col(\"vote_average\") == \"\", None).otherwise(col(\"vote_average\")))\n",
				"df_movies_TMDB_trusted = df_movies_TMDB_trusted.withColumn(\"vote_count\", when(col(\"vote_count\") == \"\", None).otherwise(col(\"vote_count\")))\n",
				"\n",
				"# altera schema das colunas do DF TMDB\n",
				"df_movies_TMDB_trusted = df_movies_TMDB_trusted.withColumn(\"popularity\", col(\"popularity\").cast(FloatType()))\n",
				"df_movies_TMDB_trusted = df_movies_TMDB_trusted.withColumn(\"vote_average\", col(\"vote_average\").cast(FloatType()))\n",
				"df_movies_TMDB_trusted = df_movies_TMDB_trusted.withColumn(\"vote_count\", col(\"vote_count\").cast(IntegerType()))\n",
				"df_series_TMDB_trusted = df_series_TMDB_trusted.withColumn(\"popularity\", col(\"popularity\").cast(FloatType()))\n",
				"df_series_TMDB_trusted = df_series_TMDB_trusted.withColumn(\"vote_average\", col(\"vote_average\").cast(FloatType()))\n",
				"df_series_TMDB_trusted = df_series_TMDB_trusted.withColumn(\"vote_count\", col(\"vote_count\").cast(IntegerType()))\n",
				"\"\"\"\n",
				"df_movies_TMDB.show(5)\n",
				"df_movies_TMDB_trusted\n",
				"df_movies_TMDB_trusted.show(5)\n",
				"df_movies_TMDB_trusted = df_series_IMDB_trusted.distinct()\n",
				"#print(\"Número de linhas antes tMDB: \", df_movies_TMDB_trusted.count())\"\"\""
			]
		},
		{
			"cell_type": "markdown",
			"metadata": {
				"editable": true,
				"trusted": true
			},
			"source": [
				"## 7.\n",
				"escreve os dados na camada Trusted no S3 no formato parquet\n"
			]
		},
		{
			"cell_type": "code",
			"execution_count": 33,
			"metadata": {},
			"outputs": [
				{
					"name": "stderr",
					"output_type": "stream",
					"text": [
						"                                                                                \r"
					]
				}
			],
			"source": [
				"\n",
				"# Salvar df_movies_TMDB_trusted em formato Parquet\n",
				"df_movies_TMDB_trusted.write.json(\"/mnt/wsl/PHYSICALDRIVE2/Projects/Compasso/Azimute/Sprint_9/Desafio03_ETL/Tarefa_03/assets/TMDB/movies_TMDB_trusted.json\")\n",
				"\n",
				"# Salvar df_series_TMDB_trusted em formato Parquet\n",
				"df_series_TMDB_trusted.write.json(\"/mnt/wsl/PHYSICALDRIVE2/Projects/Compasso/Azimute/Sprint_9/Desafio03_ETL/Tarefa_03/assets/TMDB/series_TMDB_trusted.json\")\n",
				"\n",
				"# Salvar df_filmes_IMDB_trusted em formato Parquet\n",
				"df_movies_IMDB_trusted.write.json(\"/mnt/wsl/PHYSICALDRIVE2/Projects/Compasso/Azimute/Sprint_9/Desafio03_ETL/Tarefa_03/assets/Local/movies_IMDB_trusted.json\")\n",
				"\n",
				"# Salvar df_series_IMDB_trusted em formato Parquet\n",
				"df_series_IMDB_trusted.write.json(\"/mnt/wsl/PHYSICALDRIVE2/Projects/Compasso/Azimute/Sprint_9/Desafio03_ETL/Tarefa_03/assets/Local/series_IMDB_trusted.json\")\n"
			]
		},
		{
			"cell_type": "code",
			"execution_count": 34,
			"metadata": {},
			"outputs": [
				{
					"name": "stderr",
					"output_type": "stream",
					"text": [
						"                                                                                \r"
					]
				}
			],
			"source": [
				"\n",
				"# Salvar df_movies_TMDB_trusted em formato Parquet\n",
				"df_movies_TMDB_trusted.write.parquet(\"/mnt/wsl/PHYSICALDRIVE2/Projects/Compasso/Azimute/Sprint_9/Desafio03_ETL/Tarefa_03/assets/TMDB/movies_TMDB_trusted.parquet\")\n",
				"\n",
				"# Salvar df_series_TMDB_trusted em formato Parquet\n",
				"df_series_TMDB_trusted.write.parquet(\"/mnt/wsl/PHYSICALDRIVE2/Projects/Compasso/Azimute/Sprint_9/Desafio03_ETL/Tarefa_03/assets/TMDB/series_TMDB_trusted.parquet\")\n",
				"\n",
				"# Salvar df_filmes_IMDB_trusted em formato Parquet\n",
				"df_movies_IMDB_trusted.write.parquet(\"/mnt/wsl/PHYSICALDRIVE2/Projects/Compasso/Azimute/Sprint_9/Desafio03_ETL/Tarefa_03/assets/Local/movies_IMDB_trusted.parquet\")\n",
				"\n",
				"# Salvar df_series_IMDB_trusted em formato Parquet\n",
				"df_series_IMDB_trusted.write.parquet(\"/mnt/wsl/PHYSICALDRIVE2/Projects/Compasso/Azimute/Sprint_9/Desafio03_ETL/Tarefa_03/assets/Local/series_IMDB_trusted.parquet\")\n"
			]
		},
		{
			"cell_type": "code",
			"execution_count": 35,
			"metadata": {
				"editable": true,
				"trusted": true
			},
			"outputs": [
				{
					"data": {
						"text/plain": [
							"'\\n# Obtém a data atual para criar os diretórios correspondentes\\ncurrent_date = datetime.now()\\nano = current_date.strftime(\"%Y\")\\nmes = current_date.strftime(\"%m\")\\ndia = current_date.strftime(\"%d\")\\n\\n# Define os caminhos de destino no S3 para os DataFrames no formato Parquet\\npath_trt_local_movies = \"s3://data-lake-do-fabricio/TRT/Local/Filmes/{ano}/{mes}/{dia}/\"\\npath_trt_local_series = \"s3://data-lake-do-fabricio/TRT/Local/Series/{ano}/{mes}/{dia}/\"\\npath_trt_tmdb_movies = \"s3://data-lake-do-fabricio/TRT/TMDB/Filmes/{ano}/{mes}/{dia}/\"\\npath_trt_tmdb_series = \"s3://data-lake-do-fabricio/TRT/TMDB/Series/{ano}/{mes}/{dia}/\"\\n\\n# Salva os DataFrames no formato Parquet no S3\\ndf_movies_IMDB_trusted.write.parquet(path_trt_local_movies.format(ano=ano, mes=mes, dia=dia))\\ndf_series_IMDB_trusted.write.parquet(path_trt_local_series.format(ano=ano, mes=mes, dia=dia))\\ndf_movies_TMDB_trusted.write.parquet(path_trt_tmdb_movies.format(ano=ano, mes=mes, dia=dia))\\ndf_series_TMDB_trusted.write.parquet(path_trt_tmdb_series.format(ano=ano, mes=mes, dia=dia))\\n\\n'"
						]
					},
					"execution_count": 35,
					"metadata": {},
					"output_type": "execute_result"
				}
			],
			"source": [
				"# Para versão AWS\n",
				"\"\"\"\n",
				"# Obtém a data atual para criar os diretórios correspondentes\n",
				"current_date = datetime.now()\n",
				"ano = current_date.strftime(\"%Y\")\n",
				"mes = current_date.strftime(\"%m\")\n",
				"dia = current_date.strftime(\"%d\")\n",
				"\n",
				"# Define os caminhos de destino no S3 para os DataFrames no formato Parquet\n",
				"path_trt_local_movies = \"s3://data-lake-do-fabricio/TRT/Local/Filmes/{ano}/{mes}/{dia}/\"\n",
				"path_trt_local_series = \"s3://data-lake-do-fabricio/TRT/Local/Series/{ano}/{mes}/{dia}/\"\n",
				"path_trt_tmdb_movies = \"s3://data-lake-do-fabricio/TRT/TMDB/Filmes/{ano}/{mes}/{dia}/\"\n",
				"path_trt_tmdb_series = \"s3://data-lake-do-fabricio/TRT/TMDB/Series/{ano}/{mes}/{dia}/\"\n",
				"\n",
				"# Salva os DataFrames no formato Parquet no S3\n",
				"df_movies_IMDB_trusted.write.parquet(path_trt_local_movies.format(ano=ano, mes=mes, dia=dia))\n",
				"df_series_IMDB_trusted.write.parquet(path_trt_local_series.format(ano=ano, mes=mes, dia=dia))\n",
				"df_movies_TMDB_trusted.write.parquet(path_trt_tmdb_movies.format(ano=ano, mes=mes, dia=dia))\n",
				"df_series_TMDB_trusted.write.parquet(path_trt_tmdb_series.format(ano=ano, mes=mes, dia=dia))\n",
				"\n",
				"\"\"\""
			]
		}
	],
	"metadata": {
		"kernelspec": {
			"display_name": "Python 3",
			"language": "python",
			"name": "python3"
		},
		"language_info": {
			"codemirror_mode": {
				"name": "ipython",
				"version": 3
			},
			"file_extension": ".py",
			"mimetype": "text/x-python",
			"name": "python",
			"nbconvert_exporter": "python",
			"pygments_lexer": "ipython3",
			"version": "3.9.-1"
		}
	},
	"nbformat": 4,
	"nbformat_minor": 4
}
