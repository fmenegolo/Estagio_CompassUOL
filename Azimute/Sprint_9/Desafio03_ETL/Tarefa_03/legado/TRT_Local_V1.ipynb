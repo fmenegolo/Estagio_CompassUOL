{
  "cells": [
    {
      "cell_type": "code",
      "execution_count": 1,
      "metadata": {
        "colab": {
          "base_uri": "https://localhost:8080/"
        },
        "id": "-hYDKJWpFHOo",
        "outputId": "bfa93781-11a5-45a0-90ad-1dd04ecf8d2a"
      },
      "outputs": [
        {
          "name": "stdout",
          "output_type": "stream",
          "text": [
            "Requirement already satisfied: pyspark in /opt/apache-spark/python (3.3.0)\n",
            "Requirement already satisfied: py4j==0.10.9.5 in /home/fmenegolo/.asdf/installs/python/3.9.1/lib/python3.9/site-packages (from pyspark) (0.10.9.5)\n",
            "\u001b[33mWARNING: You are using pip version 20.2.3; however, version 23.1.2 is available.\n",
            "You should consider upgrading via the '/home/fmenegolo/.asdf/installs/python/3.9.1/bin/python3.9 -m pip install --upgrade pip' command.\u001b[0m\n",
            "Reshimming asdf python...\n"
          ]
        }
      ],
      "source": [
        "!pip install pyspark"
      ]
    },
    {
      "cell_type": "markdown",
      "metadata": {
        "id": "0l7Y1SGhEY3U"
      },
      "source": [
        "# Perguntas dessa tarefa"
      ]
    },
    {
      "attachments": {},
      "cell_type": "markdown",
      "metadata": {
        "id": "m7PHoIrIESIW"
      },
      "source": [
        "## 1.\n",
        "\n",
        "- Inicialmente iremos preparar o ambiente, definindo o diretório onde nosso código será desenvolvido. Para este diretório iremos copiar o arquivo nomes_aleatorios.txt.\n",
        "\n",
        "- Após, em nosso script Python, devemos importar as bibliotecas necessárias:\n",
        "\n",
        "from pyspark.sql import SparkSession\n",
        "\n",
        "from pyspark import SparkContext, SQLContext\n",
        "\n",
        "- Aplicando as bibliotecas do Spark, podemos definir a Spark Session e sobre ela definir o Context para habilitar o módulo SQL\n",
        "\n",
        "spark = SparkSession \\\n",
        "\n",
        "                .builder \\\n",
        "\n",
        "                .master(\"local[*]\")\\\n",
        "\n",
        "                .appName(\"Exercicio Intro\") \\\n",
        "\n",
        "                .getOrCreate()\n",
        "\n"
      ]
    },
    {
      "cell_type": "code",
      "execution_count": 2,
      "metadata": {
        "colab": {
          "base_uri": "https://localhost:8080/"
        },
        "id": "FlEEmzN0ESId",
        "outputId": "a5dd3f92-e17c-44ea-b0d9-75a44722091b"
      },
      "outputs": [
        {
          "name": "stdout",
          "output_type": "stream",
          "text": [
            "/usr/sbin/hadoop\n"
          ]
        },
        {
          "name": "stderr",
          "output_type": "stream",
          "text": [
            "SLF4J: Class path contains multiple SLF4J bindings.\n",
            "SLF4J: Found binding in [jar:file:/opt/apache-spark/jars/log4j-slf4j-impl-2.17.2.jar!/org/slf4j/impl/StaticLoggerBinder.class]\n",
            "SLF4J: Found binding in [jar:file:/usr/share/hadoop/common/lib/slf4j-reload4j-1.7.36.jar!/org/slf4j/impl/StaticLoggerBinder.class]\n",
            "SLF4J: See http://www.slf4j.org/codes.html#multiple_bindings for an explanation.\n",
            "SLF4J: Actual binding is of type [org.apache.logging.slf4j.Log4jLoggerFactory]\n",
            "Setting default log level to \"WARN\".\n",
            "To adjust logging level use sc.setLogLevel(newLevel). For SparkR, use setLogLevel(newLevel).\n"
          ]
        },
        {
          "name": "stdout",
          "output_type": "stream",
          "text": [
            "23/05/26 15:49:58 WARN Utils: Service 'SparkUI' could not bind on port 4040. Attempting port 4041.\n",
            "23/05/26 15:49:58 WARN Utils: Service 'SparkUI' could not bind on port 4041. Attempting port 4042.\n"
          ]
        }
      ],
      "source": [
        "from pyspark.sql import SparkSession\n",
        "from pyspark import SparkContext, SQLContext\n",
        "from pyspark.sql.functions import col, substring, when, size\n",
        "from pyspark.sql.types import StructType, StructField, StringType, FloatType, IntegerType, DateType, LongType, ArrayType\n",
        "\n",
        "spark = SparkSession \\\n",
        "    .builder \\\n",
        "    .master(\"local[*]\")\\\n",
        "    .appName(\"ELT TRUSTED\") \\\n",
        "    .getOrCreate()\n"
      ]
    },
    {
      "cell_type": "code",
      "execution_count": 3,
      "metadata": {},
      "outputs": [],
      "source": [
        "# Definir o esquema para o DataFrame df_movies_IMDB\n",
        "schema_movies_IMDB = StructType([\n",
        "    StructField(\"id\", StringType(), True),\n",
        "    StructField(\"tituloPincipal\", StringType(), True),\n",
        "    StructField(\"tituloOriginal\", StringType(), True),\n",
        "    StructField(\"anoLancamento\", StringType(), True),\n",
        "    StructField(\"tempoMinutos\", StringType(), True),\n",
        "    StructField(\"genero\", StringType(), True),\n",
        "    StructField(\"notaMedia\", FloatType(), True),  # Definir tipo como FloatType()\n",
        "    StructField(\"numeroVotos\", IntegerType(), True),  # Definir tipo como IntegerType()\n",
        "    StructField(\"generoArtista\", StringType(), True),\n",
        "    StructField(\"personagem\", StringType(), True),\n",
        "    StructField(\"nomeArtista\", StringType(), True),\n",
        "    StructField(\"anoNascimento\", StringType(), True),  \n",
        "    StructField(\"anoFalecimento\", StringType(), True),  \n",
        "    StructField(\"profissao\", StringType(), True),\n",
        "    StructField(\"titulosMaisConhecidos\", StringType(), True)\n",
        "])\n",
        "\n",
        "# Definir o esquema para o DataFrame df_series_IMDB\n",
        "schema_series_IMDB = StructType([\n",
        "    StructField(\"id\", StringType(), True),\n",
        "    StructField(\"tituloPincipal\", StringType(), True),\n",
        "    StructField(\"tituloOriginal\", StringType(), True),\n",
        "    StructField(\"anoLancamento\", StringType(), True), \n",
        "    StructField(\"anoTermino\", StringType(), True),  \n",
        "    StructField(\"tempoMinutos\", IntegerType(), True),  # Definir tipo como IntegerType()\n",
        "    StructField(\"genero\", StringType(), True),\n",
        "    StructField(\"notaMedia\", FloatType(), True),  # Definir tipo como FloatType()\n",
        "    StructField(\"numeroVotos\", IntegerType(), True),  # Definir tipo como IntegerType()\n",
        "    StructField(\"generoArtista\", StringType(), True),\n",
        "    StructField(\"personagem\", StringType(), True),\n",
        "    StructField(\"nomeArtista\", StringType(), True),\n",
        "    StructField(\"anoNascimento\", StringType(), True),  \n",
        "    StructField(\"anoFalecimento\", StringType(), True),  \n",
        "    StructField(\"profissao\", StringType(), True),\n",
        "    StructField(\"titulosMaisConhecidos\", StringType(), True)\n",
        "])"
      ]
    },
    {
      "attachments": {},
      "cell_type": "markdown",
      "metadata": {},
      "source": [
        "- Nesta etapa, é a leitura dos arquivos de filmes e series CSV e JSON"
      ]
    },
    {
      "cell_type": "code",
      "execution_count": 4,
      "metadata": {},
      "outputs": [
        {
          "name": "stderr",
          "output_type": "stream",
          "text": [
            "                                                                                \r"
          ]
        },
        {
          "name": "stdout",
          "output_type": "stream",
          "text": [
            "+---------+--------------+--------------+-------------+------------+-------+---------+-----------+-------------+--------------------+---------------+-------------+--------------+---------+---------------------+\n",
            "|       id|tituloPincipal|tituloOriginal|anoLancamento|tempoMinutos| genero|notaMedia|numeroVotos|generoArtista|          personagem|    nomeArtista|anoNascimento|anoFalecimento|profissao|titulosMaisConhecidos|\n",
            "+---------+--------------+--------------+-------------+------------+-------+---------+-----------+-------------+--------------------+---------------+-------------+--------------+---------+---------------------+\n",
            "|tt0000009|    Miss Jerry|    Miss Jerry|         1894|          45|Romance|      5.3|        200|      actress|Miss Geraldine Ho...|Blanche Bayliss|         1878|          1951|  actress|            tt0000009|\n",
            "+---------+--------------+--------------+-------------+------------+-------+---------+-----------+-------------+--------------------+---------------+-------------+--------------+---------+---------------------+\n",
            "only showing top 1 row\n",
            "\n",
            "+---------+--------------+--------------+-------------+----------+------------+------+---------+-----------+-------------+----------------+------------+-------------+--------------+------------+---------------------+\n",
            "|       id|tituloPincipal|tituloOriginal|anoLancamento|anoTermino|tempoMinutos|genero|notaMedia|numeroVotos|generoArtista|      personagem| nomeArtista|anoNascimento|anoFalecimento|   profissao|titulosMaisConhecidos|\n",
            "+---------+--------------+--------------+-------------+----------+------------+------+---------+-----------+-------------+----------------+------------+-------------+--------------+------------+---------------------+\n",
            "|tt0025509|Les Misérables|Les misérables|         1934|      1934|         279| Drama|      8.4|       1820|        actor|Marius Pontmercy|Jean Servais|         1910|          1976|actor,writer| tt0045034,tt00480...|\n",
            "+---------+--------------+--------------+-------------+----------+------------+------+---------+-----------+-------------+----------------+------------+-------------+--------------+------------+---------------------+\n",
            "only showing top 1 row\n",
            "\n",
            "+-----+--------------------+------------+------+-----------------+--------------------+--------------------+----------+--------------------+------------+--------------------+-----+------------+----------+\n",
            "|adult|       backdrop_path|   genre_ids|    id|original_language|      original_title|            overview|popularity|         poster_path|release_date|               title|video|vote_average|vote_count|\n",
            "+-----+--------------------+------------+------+-----------------+--------------------+--------------------+----------+--------------------+------------+--------------------+-----+------------+----------+\n",
            "|false|/kgATFkG4SDyengNM...|[14, 28, 12]|455476|               en|Knights of the Zo...|Quando um órfão d...|   292.303|/omPLRVEydDJdkXoB...|  2023-04-27|Os Cavaleiros do ...|false|         6.3|        49|\n",
            "+-----+--------------------+------------+------+-----------------+--------------------+--------------------+----------+--------------------+------------+--------------------+-----+------------+----------+\n",
            "only showing top 1 row\n",
            "\n",
            "+--------------------+--------------+------------------+------+--------------------+--------------+-----------------+-------------------------------------+--------------------+----------+--------------------+------------+----------+\n",
            "|       backdrop_path|first_air_date|         genre_ids|    id|                name|origin_country|original_language|                        original_name|            overview|popularity|         poster_path|vote_average|vote_count|\n",
            "+--------------------+--------------+------------------+------+--------------------+--------------+-----------------+-------------------------------------+--------------------+----------+--------------------+------------+----------+\n",
            "|/vGcu194Jk4I06u69...|    2023-04-07|[16, 10765, 10759]|208493|I Got a Cheat Ski...|          [JP]|               ja|異世界でチート能力を手にした俺は、...|A door to another...|   432.772|/2kTYmmOU8SsDxSij...|         6.9|        11|\n",
            "+--------------------+--------------+------------------+------+--------------------+--------------+-----------------+-------------------------------------+--------------------+----------+--------------------+------------+----------+\n",
            "only showing top 1 row\n",
            "\n"
          ]
        }
      ],
      "source": [
        "path1 = f\"/mnt/wsl/PHYSICALDRIVE2/Projects/Compasso/Azimute/Sprint_7/Desafio01_ETL/assets/\"\n",
        "df_movies_IMDB = spark.read.option(\"delimiter\", \"|\").schema(schema_movies_IMDB).csv(path1 + 'movies.csv', header=True)\n",
        "df_series_IMDB = spark.read.option(\"delimiter\", \"|\").schema(schema_series_IMDB).csv(path1 + 'series.csv', header=True)\n",
        "\n",
        "path2 = f\"/mnt/wsl/PHYSICALDRIVE2/Projects/Compasso/Azimute/Sprint_8/Desafio02_ETL/Tarefa_02/assets/\"\n",
        "df_movies_TMDB = spark.read.json(path2 + 'movies.json') \n",
        "df_series_TMDB = spark.read.json(path2 + 'series.json')\n",
        "\n",
        "df_movies_IMDB.show(1)\n",
        "df_series_IMDB.show(1)\n",
        "\n",
        "df_movies_TMDB.show(1)\n",
        "df_series_TMDB.show(1)"
      ]
    },
    {
      "attachments": {},
      "cell_type": "markdown",
      "metadata": {
        "id": "kUzxXu7dESIe"
      },
      "source": [
        "## 2. \n",
        " Filtro os Filmes do BD Local com lista de filmes do TMDB"
      ]
    },
    {
      "cell_type": "code",
      "execution_count": 11,
      "metadata": {
        "colab": {
          "base_uri": "https://localhost:8080/"
        },
        "id": "21ipYuCfc5Co",
        "outputId": "afbef4d9-ae62-4a20-9050-57bb04a30c28"
      },
      "outputs": [
        {
          "name": "stderr",
          "output_type": "stream",
          "text": [
            "                                                                                \r"
          ]
        },
        {
          "name": "stdout",
          "output_type": "stream",
          "text": [
            "+----------+--------------------+--------------------+-------------+------------+--------------------+---------+-----------+-------------+--------------------+--------------------+-------------+--------------+--------------------+---------------------+--------------------+\n",
            "|        id|     tituloPrincipal|      tituloOriginal|anoLancamento|tempoMinutos|              genero|notaMedia|numeroVotos|generoArtista|          personagem|         nomeArtista|anoNascimento|anoFalecimento|           profissao|titulosMaisConhecidos|               title|\n",
            "+----------+--------------------+--------------------+-------------+------------+--------------------+---------+-----------+-------------+--------------------+--------------------+-------------+--------------+--------------------+---------------------+--------------------+\n",
            "| tt0811080|         Speed Racer|         Speed Racer|         2008|         135|Action,Adventure,...|      6.0|      74455|        actor|             Racer X|         Matthew Fox|         1966|          null|actor,director,so...| tt0443274,tt24943...|         Speed Racer|\n",
            "| tt1209368|      Van Von Hunter|      Van Von Hunter|         2010|          96|              Comedy|      3.6|         19|      actress|        Holly O'Hara|Heather Marie Mar...|           \\N|          null|actress,soundtrac...| tt0386676,tt10692...|      Van Von Hunter|\n",
            "| tt1142972|  Detroit Metal City|Detoroito Metaru ...|         2008|         104|  Comedy,Drama,Music|      6.6|       2603|        actor|Terumichi Nishida...|       Ryûji Akiyama|           \\N|          null|               actor| tt1142972,tt23171...|  Detroit Metal City|\n",
            "| tt1241317|          Death Note|          Death Note|         2017|         101| Crime,Drama,Fantasy|      4.5|      85629|        actor|                   L|   LaKeith Stanfield|         1991|          null|actor,producer,so...| tt5688932,tt10200...|          Death Note|\n",
            "| tt0811080|         Speed Racer|         Speed Racer|         2008|         135|Action,Adventure,...|      6.0|      74455|        actor|   Young Speed Racer|       Nicholas Elia|         1997|          null|               actor| tt0499556,tt03752...|         Speed Racer|\n",
            "| tt0811080|         Speed Racer|         Speed Racer|         2008|         135|Action,Adventure,...|      6.0|      74455|      actress|              Trixie|     Christina Ricci|         1980|          null|actress,producer,...| tt0118789,tt01126...|         Speed Racer|\n",
            "| tt1142972|  Detroit Metal City|Detoroito Metaru ...|         2008|         104|  Comedy,Drama,Music|      6.6|       2603|      actress|         Yuri Aikawa|           Rosa Katô|         1985|          null|             actress| tt0872019,tt04757...|  Detroit Metal City|\n",
            "| tt1098327|Dragonball Evolution|Dragonball Evolution|         2009|          85|Action,Adventure,...|      2.6|      75158|        actor|                Goku|      Justin Chatwin|         1982|          null|               actor| tt1098327,tt04356...|Dragonball Evolution|\n",
            "| tt1241317|          Death Note|          Death Note|         2017|         101| Crime,Drama,Fantasy|      4.5|      85629|        actor|        Light Turner|           Nat Wolff|         1994|          null|actor,composer,mu...| tt6196936,tt24798...|          Death Note|\n",
            "|tt10052928|Black Fox: Age of...|Black Fox: Age of...|         2019|          92|Action,Drama,Fantasy|      4.9|        140|      actress|       Rikka Isurugi|    Chihiro Yamamoto|         1996|          null|             actress| tt7772394,tt68421...|Black Fox: Age of...|\n",
            "| tt1241317|          Death Note|          Death Note|         2017|         101| Crime,Drama,Fantasy|      4.5|      85629|      actress|          Mia Sutton|    Margaret Qualley|         1994|          null|actress,miscellan...| tt4513316,tt71316...|          Death Note|\n",
            "| tt1098327|Dragonball Evolution|Dragonball Evolution|         2009|          85|Action,Adventure,...|      2.6|      75158|        actor|        Lord Piccolo|      James Marsters|         1962|          null|actor,producer,wr...| tt0162065,tt01182...|Dragonball Evolution|\n",
            "|tt10052928|Black Fox: Age of...|Black Fox: Age of...|         2019|          92|Action,Drama,Fantasy|      4.9|        140|      actress|                Haku|        Mami Fujioka|           \\N|          null|             actress| tt10228168,tt1016...|Black Fox: Age of...|\n",
            "| tt1209368|      Van Von Hunter|      Van Von Hunter|         2010|          96|              Comedy|      3.6|         19|        actor|      Van Von Hunter|      Yuri Lowenthal|         1971|          null|actor,producer,wr...| tt5807780,tt11465...|      Van Von Hunter|\n",
            "| tt1241317|          Death Note|          Death Note|         2017|         101| Crime,Drama,Fantasy|      4.5|      85629|        actor|        James Turner|        Shea Whigham|         1969|          null|      actor,producer| tt1675192,tt18002...|          Death Note|\n",
            "| tt1142972|  Detroit Metal City|Detoroito Metaru ...|         2008|         104|  Comedy,Drama,Music|      6.6|       2603|        actor|Masayuki WadaAlex...|    Yoshihiko Hosoda|         1988|          null|               actor| tt11952626,tt5264...|  Detroit Metal City|\n",
            "| tt1209368|      Van Von Hunter|      Van Von Hunter|         2010|          96|              Comedy|      3.6|         19|        actor|         NYC Crew #1|     Lucas Bridgeman|           \\N|          null|               actor|            tt1209368|      Van Von Hunter|\n",
            "|tt10052928|Black Fox: Age of...|Black Fox: Age of...|         2019|          92|Action,Drama,Fantasy|      4.9|        140|      actress|                Miya|        Maimi Yajima|         1992|          null|             actress| tt2958978,tt10052...|Black Fox: Age of...|\n",
            "| tt1142972|  Detroit Metal City|Detoroito Metaru ...|         2008|         104|  Comedy,Drama,Music|      6.6|       2603|        actor|Sôichi NegishiJoh...|  Ken'ichi Matsuyama|         1985|          null|               actor| tt1270842,tt08108...|  Detroit Metal City|\n",
            "| tt1209368|      Van Von Hunter|      Van Von Hunter|         2010|          96|              Comedy|      3.6|         19|        actor|       Urinal Man #1|        Chris Buford|           \\N|          null|               actor|            tt1209368|      Van Von Hunter|\n",
            "+----------+--------------------+--------------------+-------------+------------+--------------------+---------+-----------+-------------+--------------------+--------------------+-------------+--------------+--------------------+---------------------+--------------------+\n",
            "only showing top 20 rows\n",
            "\n"
          ]
        },
        {
          "name": "stderr",
          "output_type": "stream",
          "text": [
            "                                                                                \r"
          ]
        },
        {
          "name": "stdout",
          "output_type": "stream",
          "text": [
            "Número de linhas antes IMDB:  1045161\n"
          ]
        },
        {
          "name": "stderr",
          "output_type": "stream",
          "text": [
            "                                                                                \r"
          ]
        },
        {
          "name": "stdout",
          "output_type": "stream",
          "text": [
            "Número de linhas depois IMDB:  66\n",
            "Número de linhas TMDB:  49\n"
          ]
        },
        {
          "name": "stderr",
          "output_type": "stream",
          "text": [
            "[Stage 99:>                                                         (0 + 8) / 8]\r"
          ]
        },
        {
          "name": "stdout",
          "output_type": "stream",
          "text": [
            "Número de linhas no resultado:  14\n"
          ]
        },
        {
          "name": "stderr",
          "output_type": "stream",
          "text": [
            "                                                                                \r"
          ]
        }
      ],
      "source": [
        "# Converter a coluna 'title' do DataFrame JSON para um array de palavras e extrair o ano de lançamento\n",
        "df_filmes_titulos_datas = df_movies_TMDB.select(col('title'), substring(col('release_date'), 1, 4).alias('releaseDate'))\n",
        "\n",
        "# Realizar a filtragem dos títulos\n",
        "df_IMDB_filtrado_filmes = df_movies_IMDB.join(df_filmes_titulos_datas,\n",
        "                                   (df_movies_IMDB['tituloPincipal'].contains(df_filmes_titulos_datas['title'])) &\n",
        "                                   (df_movies_IMDB['anoLancamento'] == df_filmes_titulos_datas['releaseDate']),\n",
        "                                   'inner')\n",
        "\n",
        "# Remover as colunas 'title' e 'releaseDate' do DataFrame\n",
        "df_IMDB_filtrado_filmes = df_IMDB_filtrado_filmes.drop('releaseDate')\n",
        "\n",
        "# Renomear a coluna 'tituloPincipal' para 'tituloPrincipal' no DataFrame df_IMDB_filtrado_filmes\n",
        "df_IMDB_filtrado_filmes = df_IMDB_filtrado_filmes.withColumnRenamed(\"tituloPincipal\", \"tituloPrincipal\")\n",
        "\n",
        "df_IMDB_filtrado_filmes = df_IMDB_filtrado_filmes.distinct()\n",
        "\n",
        "# Trata os valores \"NA\" na coluna \"anoFalecimento\"\n",
        "df_IMDB_Filmes_resultado = df_IMDB_filtrado_filmes.withColumn(\"anoFalecimento\", when(col(\"anoFalecimento\") == \"\\\\N\", None).otherwise(col(\"anoFalecimento\")))\n",
        "\n",
        "# Exibir resultado\n",
        "df_IMDB_Filmes_resultado.show(20)\n",
        "print(\"Número de linhas antes IMDB: \", df_movies_IMDB.count())\n",
        "print(\"Número de linhas depois IMDB: \", df_IMDB_Filmes_resultado.count())\n",
        "print(\"Número de linhas TMDB: \", df_movies_TMDB.count())\n",
        "count = df_IMDB_Filmes_resultado.select('title').distinct().count()\n",
        "print(\"Número de linhas no resultado: \", count)"
      ]
    },
    {
      "attachments": {},
      "cell_type": "markdown",
      "metadata": {},
      "source": [
        "## 3. \n",
        "Filtro as Series do BD Local com lista de series do TMDB"
      ]
    },
    {
      "cell_type": "code",
      "execution_count": 13,
      "metadata": {},
      "outputs": [
        {
          "name": "stderr",
          "output_type": "stream",
          "text": [
            "                                                                                \r"
          ]
        },
        {
          "name": "stdout",
          "output_type": "stream",
          "text": [
            "+---------+--------------------+--------------------+-------------+----------+------------+--------------------+---------+-----------+-------------+--------------------+-----------------+-------------+--------------+--------------------+---------------------+--------------------+--------------+\n",
            "|       id|     tituloPrincipal|      tituloOriginal|anoLancamento|anoTermino|tempoMinutos|              genero|notaMedia|numeroVotos|generoArtista|          personagem|      nomeArtista|anoNascimento|anoFalecimento|           profissao|titulosMaisConhecidos|                name|dataLancamento|\n",
            "+---------+--------------------+--------------------+-------------+----------+------------+--------------------+---------+-----------+-------------+--------------------+-----------------+-------------+--------------+--------------------+---------------------+--------------------+--------------+\n",
            "|tt0094452|        Double First|        Double First|         1988|        \\N|          60|              Comedy|      7.8|         12|        actor|             Milkman|       Roy Holder|         1946|          2021|    actor,soundtrack| tt0414387,tt00635...|                   F|          1988|\n",
            "|tt0112166|         The Slayers|           Sureiyâzu|         1995|      2009|          25|Action,Adventure,...|      7.5|       2264|      actress|Lina InverseCandy...|       Lisa Ortiz|         1974|            \\N|actress,miscellan...|            tt0778849|             Slayers|          1995|\n",
            "|tt0122356|The Mysterious Ci...|Taiyô no ko Esuteban|         1982|      1983|          28|Adventure,Animati...|      8.7|       4020|        actor|              Sancho|Terrence Labrosse|         1933|          2003|               actor| tt0122356,tt00971...|The Mysterious Ci...|          1982|\n",
            "|tt0142183|Super Dimension F...|Chôjikû Yôsai Mac...|         1982|      1983|          25|Action,Adventure,...|      8.5|       2155|      actress|         Lynn Minmay|      Mari Iijima|         1963|            \\N|actress,soundtrac...| tt0412605,tt00876...|Super Dimension F...|          1982|\n",
            "|tt0147749|         Better Days|         Better Days|         1998|        \\N|        null|                  \\N|      1.7|         74|        actor|          Dad (1998)|      Todd Tucker|           \\N|            \\N|make_up_departmen...| tt0409459,tt01029...|                Days|          1998|\n",
            "|tt0158406|El-Hazard: The Wa...|El Hazard: Wanderers|         1995|      1996|          25|Adventure,Animati...|      6.5|        151|        actor|Mr. Masamichi Fuj...|   Michael Sorich|         1958|            \\N|actor,miscellaneo...| tt0113568,tt03316...|El-Hazard: The Wa...|          1995|\n",
            "|tt0158455|        Iczer Reborn|      Bôken! Iczer-3|         1990|        \\N|          30|    Animation,Sci-Fi|      6.1|         41|      actress|          Cpt. Candy|    Emi Shinohara|         1963|            \\N|  actress,soundtrack| tt0356228,tt01033...|        Iczer Reborn|          1990|\n",
            "|tt0159363|      Cleopatra D.C.|      Cleopatra D.C.|         1989|      1989|         110|Action,Animation,...|      6.0|         47|        actor|         Dr. Randall|    Eiji Maruyama|         1930|            \\N|               actor| tt0471223,tt01562...|      Cleopatra D.C.|          1989|\n",
            "|tt0168436|  My Daddy Long Legs|Watashi no ashina...|         1990|      1990|          24|Animation,Comedy,...|      8.2|       1566|        actor|              Jervis|  Hideyuki Tanaka|         1950|            \\N|actor,assistant_d...| tt0292103,tt01619...|     Daddy Long Legs|          1990|\n",
            "|tt0078659|              Monkey|             Saiyûki|         1978|      2004|        null|Action,Adventure,...|      8.4|       1849|        actor|HorseYu-Lung (sea...|     Andrew Sachs|         1930|          2016|actor,writer,soun...| tt0078163,tt00725...|              Monkey|          1978|\n",
            "+---------+--------------------+--------------------+-------------+----------+------------+--------------------+---------+-----------+-------------+--------------------+-----------------+-------------+--------------+--------------------+---------------------+--------------------+--------------+\n",
            "only showing top 10 rows\n",
            "\n",
            "Número de linhas antes IMDB:  468783\n"
          ]
        },
        {
          "name": "stderr",
          "output_type": "stream",
          "text": [
            "                                                                                \r"
          ]
        },
        {
          "name": "stdout",
          "output_type": "stream",
          "text": [
            "Número de linhas IMDB:  22271\n",
            "Número de linhas TMDB:  10000\n"
          ]
        },
        {
          "name": "stderr",
          "output_type": "stream",
          "text": [
            "[Stage 147:===================================>                     (5 + 3) / 8]\r"
          ]
        },
        {
          "name": "stdout",
          "output_type": "stream",
          "text": [
            "Número de linhas no resultado:  2298\n"
          ]
        },
        {
          "name": "stderr",
          "output_type": "stream",
          "text": [
            "                                                                                \r"
          ]
        }
      ],
      "source": [
        "# Converter a coluna 'name' e a substring de 'first_air_date' do DataFrame JSON para o DataFrame do TMDB\n",
        "df_series_nomes_datas = df_series_TMDB.select(col('name'), substring(col('first_air_date'), 1, 4).alias('dataLancamento'))\n",
        "\n",
        "# Realizar a filtragem dos títulos e anos de lançamento\n",
        "df_IMDB_filtrado_series = df_series_IMDB.join(df_series_nomes_datas,\n",
        "                                         (df_series_IMDB['tituloPincipal'].contains(df_series_nomes_datas['name'])) &\n",
        "                                         (df_series_IMDB['anoLancamento'] == df_series_nomes_datas['dataLancamento']),\n",
        "                                         'inner')\n",
        "\n",
        "# Remover as colunas 'name' e 'dataLancamento' do DataFrame\n",
        "#df_IMDB_filtrado_series = df_IMDB_filtrado_series.drop('name','dataLancamento')\n",
        "\n",
        "df_IMDB_filtrado_series = df_IMDB_filtrado_series.distinct()\n",
        "\n",
        "# Renomear a coluna 'tituloPincipal' para 'tituloPrincipal' no DataFrame df_IMDB_filtrado_filmes\n",
        "df_IMDB_filtrado_series = df_IMDB_filtrado_series.withColumnRenamed(\"tituloPincipal\", \"tituloPrincipal\")\n",
        "\n",
        "# Exibir resultado\n",
        "df_IMDB_filtrado_series.show(10)\n",
        "print(\"Número de linhas antes IMDB: \", df_series_IMDB.count())\n",
        "print(\"Número de linhas IMDB: \", df_IMDB_filtrado_series.count())\n",
        "print(\"Número de linhas TMDB: \", df_series_TMDB.count())\n",
        "\n",
        "count = df_IMDB_filtrado_series.select('name').distinct().count()\n",
        "print(\"Número de linhas no resultado: \", count)"
      ]
    },
    {
      "attachments": {},
      "cell_type": "markdown",
      "metadata": {},
      "source": [
        "## 4. \n",
        "Filtro as Series do BD Local que foram filtradas no passo 3\n",
        "\n",
        "com a dos filmes do BD local que foram filtrados no passo 2"
      ]
    },
    {
      "cell_type": "code",
      "execution_count": 7,
      "metadata": {},
      "outputs": [
        {
          "name": "stderr",
          "output_type": "stream",
          "text": [
            "                                                                                \r"
          ]
        },
        {
          "name": "stdout",
          "output_type": "stream",
          "text": [
            "+---------+--------------------+--------------------+-------------+----------+------------+--------------------+---------+-----------+-------------+--------------------+--------------+-------------+--------------+--------------------+---------------------+\n",
            "|       id|     tituloPrincipal|      tituloOriginal|anoLancamento|anoTermino|tempoMinutos|              genero|notaMedia|numeroVotos|generoArtista|          personagem|   nomeArtista|anoNascimento|anoFalecimento|           profissao|titulosMaisConhecidos|\n",
            "+---------+--------------------+--------------------+-------------+----------+------------+--------------------+---------+-----------+-------------+--------------------+--------------+-------------+--------------+--------------------+---------------------+\n",
            "|tt0061300|         Speed Racer|        Mahha GoGoGo|         1967|      1968|          30|Action,Adventure,...|      7.2|       3041|        actor|Pops RacerAdditio...|   Jack Curtis|         1926|          1970|actor,writer,dire...| tt0121187,tt00581...|\n",
            "|tt0061300|         Speed Racer|        Mahha GoGoGo|         1967|      1968|          30|Action,Adventure,...|      7.2|       3041|        actor|          Corredor X|   André Filho|         1946|            \\N|               actor|            tt0061300|\n",
            "|tt0061300|         Speed Racer|        Mahha GoGoGo|         1967|      1968|          30|Action,Adventure,...|      7.2|       3041|        actor|     Chim-ChimSparky|   Jack Grimes|         1926|          2009|               actor| tt0061300,tt00600...|\n",
            "|tt0421357| Fullmetal Alchemist|Hagane no renkinj...|         2003|      2004|          24|Action,Adventure,...|      8.5|      71301|      actress|Alphonse ElricCat...|  Rie Kugimiya|         1979|            \\N|actress,music_dep...| tt1196027,tt20857...|\n",
            "|tt0877057|          Death Note|Death Note: Desu ...|         2006|      2007|          24|Animation,Crime,D...|      9.0|     323143|        actor|        Light Yagami|   Brad Swaile|         1976|            \\N|               actor| tt0247827,tt03744...|\n",
            "|tt0877057|          Death Note|Death Note: Desu ...|         2006|      2007|          24|Animation,Crime,D...|      9.0|     323143|        actor|RyukSuguru Shimur...|Brian Drummond|         1969|            \\N|    actor,soundtrack| tt0374407,tt08770...|\n",
            "|tt0877057|          Death Note|Death Note: Desu ...|         2006|      2007|          24|Animation,Crime,D...|      9.0|     323143|        actor|     Soichiro Yagami|  Naoya Uchida|         1953|            \\N|               actor| tt3208522,tt00802...|\n",
            "|tt0877057|          Death Note|Death Note: Desu ...|         2006|      2007|          24|Animation,Crime,D...|      9.0|     323143|        actor|Shuichi AizawaShi...| Trevor Devall|         1972|            \\N|actor,sound_depar...| tt5459566,tt63242...|\n",
            "|tt0434665|              Bleach|     Bleach: Burîchi|         2004|      2012|          24|Action,Adventure,...|      8.2|      56519|      actress|Rukia KuchikiTobi...| Michelle Ruff|         1967|            \\N|actress,miscellan...| tt1174954,tt22989...|\n",
            "|tt1355642|Fullmetal Alchemi...|Hagane no renkinj...|         2009|      2010|          24|Action,Adventure,...|      9.1|     167814|        actor|NarratorFatherHom...| Kent Williams|         1964|            \\N|actor,sound_depar...| tt1355642,tt22639...|\n",
            "+---------+--------------------+--------------------+-------------+----------+------------+--------------------+---------+-----------+-------------+--------------------+--------------+-------------+--------------+--------------------+---------------------+\n",
            "only showing top 10 rows\n",
            "\n"
          ]
        },
        {
          "name": "stderr",
          "output_type": "stream",
          "text": [
            "                                                                                \r"
          ]
        },
        {
          "name": "stdout",
          "output_type": "stream",
          "text": [
            "Número de linhas IMDB antes:  22143\n"
          ]
        },
        {
          "name": "stderr",
          "output_type": "stream",
          "text": [
            "[Stage 54:==================================================>       (7 + 1) / 8]\r"
          ]
        },
        {
          "name": "stdout",
          "output_type": "stream",
          "text": [
            "Número de linhas no resultado:  100\n"
          ]
        },
        {
          "name": "stderr",
          "output_type": "stream",
          "text": [
            "                                                                                \r"
          ]
        }
      ],
      "source": [
        "\"\"\"# Filtrar apenas os títulos das séries correspondentes aos filmes\n",
        "df_series_correspondentes = df_IMDB_Filmes_resultado.select(col('title').alias('titulo'))\"\"\"\n",
        "\n",
        "df_series_correspondentes = df_movies_TMDB.select(col('title').alias('titulo'))\n",
        "\n",
        "\"\"\"# Realizar a junção entre os dataframes de séries e títulos correspondentes usando contains\n",
        "df_IMDB_Series_resultado = df_IMDB_filtrado_series.join(df_series_correspondentes,\n",
        "                                            df_IMDB_filtrado_series['tituloPrincipal'].contains(df_series_correspondentes['titulo']),\n",
        "                                            'inner')\"\"\"\n",
        "df_IMDB_Series_resultado = df_IMDB_filtrado_series.join(df_series_correspondentes,\n",
        "                                                        df_IMDB_filtrado_series['tituloPrincipal'].contains(df_series_correspondentes['titulo']),\n",
        "                                                        'inner')\n",
        "\n",
        "\n",
        "df_IMDB_Series_resultado = df_IMDB_Series_resultado.drop('titulo')\n",
        "\n",
        "# Remover linhas duplicadas no resultado\n",
        "df_IMDB_Series_resultado = df_IMDB_Series_resultado.distinct()\n",
        "\n",
        "# Trata os valores \"NA\" na coluna \"anoFalecimento\"\n",
        "df_IMDB_filtrado_series = df_IMDB_filtrado_series.withColumn(\"anoNascimento\", when(col(\"anoNascimento\") == \"\\\\N\", None).otherwise(col(\"anoNascimento\")))\n",
        "df_IMDB_filtrado_series = df_IMDB_filtrado_series.withColumn(\"anoFalecimento\", when(col(\"anoFalecimento\") == \"\\\\N\", None).otherwise(col(\"anoFalecimento\")))\n",
        "df_IMDB_filtrado_series = df_IMDB_filtrado_series.withColumn(\"anoTermino\", when(col(\"anoTermino\") == \"\\\\N\", None).otherwise(col(\"anoTermino\")))\n",
        "df_IMDB_filtrado_series = df_IMDB_filtrado_series.withColumn(\"tempoMinutos\", when(col(\"tempoMinutos\") == \"\\\\N\", None).otherwise(col(\"tempoMinutos\")))\n",
        "\n",
        "# Exibir resultado das séries correspondentes aos filmes\n",
        "df_IMDB_Series_resultado.show(10)\n",
        "\n",
        "print(\"Número de linhas IMDB antes: \", df_IMDB_filtrado_series.count())\n",
        "print(\"Número de linhas no resultado: \", df_IMDB_Series_resultado.count())"
      ]
    },
    {
      "attachments": {},
      "cell_type": "markdown",
      "metadata": {},
      "source": [
        "## 5. \n",
        "Filtro as Series do TMDB com lista de Filmes do TMDB"
      ]
    },
    {
      "cell_type": "code",
      "execution_count": 8,
      "metadata": {},
      "outputs": [
        {
          "name": "stdout",
          "output_type": "stream",
          "text": [
            "+--------------+--------------------+------+--------------------+--------------+-----------------+-----------------------------+--------------------+----------+------------+----------+\n",
            "|first_air_date|           genre_ids|    id|                name|origin_country|original_language|                original_name|            overview|popularity|vote_average|vote_count|\n",
            "+--------------+--------------------+------+--------------------+--------------+-----------------+-----------------------------+--------------------+----------+------------+----------+\n",
            "|    1967-09-23|[10759, 16, 35, 1...| 30986|         Speed Racer|          [JP]|               ja|                 マッハGoGoGo|Teenager Speed Ra...|    29.117|         7.4|        97|\n",
            "|          null|                [16]|222624|Gintama 3-nen Z-g...|          [JP]|               ja|          銀魂 3年Z組銀八先生|The storyline rev...|       0.6|         0.0|         0|\n",
            "|    2022-10-04|         [16, 10759]|158293|   Shinobi no Ittoki|          [JP]|               ja|                     忍の一時|A descendent of t...|    19.395|         7.0|        15|\n",
            "|    2010-10-02|        [16, 35, 18]| 36041|           Bakuman。|          [JP]|               ja|                   バクマン。|Moritaka Mashiro,...|    27.463|         8.1|       118|\n",
            "|    2011-06-10|                null|169566|Fullmetal Alchemi...|          [JP]|               ja|         Fullmetal Alchemi...|To mark the July ...|     0.726|         5.0|         1|\n",
            "|    2022-07-18|                null|205909|   Shinobi to osanpo|          [JP]|               ja|       シノビーと、おさんぽ。|A news show aired...|       0.6|         0.0|         0|\n",
            "|    2006-10-04|   [16, 9648, 10765]| 13916|          Death Note|          [JP]|               ja|                   DEATH NOTE|Light Yagami is a...|    64.728|         8.6|      3397|\n",
            "|    2021-01-15|     [16, 35, 10759]|114211|Gintama: The Semi...|          [JP]|               ja|          銀魂 THE SEMI-FINAL|When Gintoki appr...|     6.907|         7.9|        13|\n",
            "|    2019-03-31|  [10759, 10765, 18]| 88092|Rider Time: Kamen...|          [JP]|               ja|RIDER TIME 仮面ライダーシノビ|In the near futur...|     6.089|         0.0|         1|\n",
            "|    2017-10-12|[16, 18, 10765, 1...| 73946|Inuyashiki: Last ...|          [JP]|               ja|                   いぬやしき|Aliens replace mi...|      7.82|         8.2|       234|\n",
            "+--------------+--------------------+------+--------------------+--------------+-----------------+-----------------------------+--------------------+----------+------------+----------+\n",
            "only showing top 10 rows\n",
            "\n",
            "Número de linhas antes TMDB:  10000\n",
            "Número de linhas no resultado:  24\n"
          ]
        }
      ],
      "source": [
        "# Filtrar apenas os títulos das séries correspondentes aos filmes\n",
        "df_filmes_titulos = df_movies_TMDB.select(col('title').alias('titulo'))\n",
        "\n",
        "# Realizar a junção entre os dataframes de séries e títulos correspondentes usando contains\n",
        "df_TMDB_Series_resultado = df_series_TMDB.join(df_filmes_titulos,\n",
        "                                            df_series_TMDB['name'].contains(df_filmes_titulos['titulo']),\n",
        "                                            'inner')\n",
        "\n",
        "df_TMDB_Series_resultado = df_TMDB_Series_resultado.drop('titulo','backdrop_path','poster_path')\n",
        "\n",
        "# Remover linhas duplicadas no resultado\n",
        "df_TMDB_Series_resultado = df_TMDB_Series_resultado.distinct()\n",
        "\n",
        "# Trata os valores \"NA\" na coluna \"anoFalecimento\"\n",
        "df_TMDB_Series_resultado = df_TMDB_Series_resultado.withColumn(\"first_air_date\", when(col(\"first_air_date\") == \"\", None).otherwise(col(\"first_air_date\")))\n",
        "df_TMDB_Series_resultado = df_TMDB_Series_resultado.withColumn(\"genre_ids\", when(size(col(\"genre_ids\")) == 0, None).otherwise(col(\"genre_ids\")))\n",
        "df_TMDB_Series_resultado = df_TMDB_Series_resultado.withColumn(\"overview\", when(col(\"overview\") == \"\", None).otherwise(col(\"overview\")))\n",
        "\n",
        "# Exibir resultado das séries correspondentes aos filmes\n",
        "df_TMDB_Series_resultado.show(10)\n",
        "print(\"Número de linhas antes TMDB: \", df_series_TMDB.count())\n",
        "print(\"Número de linhas no resultado: \", df_TMDB_Series_resultado.count())"
      ]
    },
    {
      "attachments": {},
      "cell_type": "markdown",
      "metadata": {},
      "source": [
        "## 6.\n",
        "Elimina algumas colunas não relevantes do df_movies_TMDB "
      ]
    },
    {
      "cell_type": "code",
      "execution_count": 9,
      "metadata": {},
      "outputs": [
        {
          "name": "stdout",
          "output_type": "stream",
          "text": [
            "+-----+--------------------+-------------+------+-----------------+--------------------------------+--------------------+----------+--------------------+------------+--------------------+-----+------------+----------+\n",
            "|adult|       backdrop_path|    genre_ids|    id|original_language|                  original_title|            overview|popularity|         poster_path|release_date|               title|video|vote_average|vote_count|\n",
            "+-----+--------------------+-------------+------+-----------------+--------------------------------+--------------------+----------+--------------------+------------+--------------------+-----+------------+----------+\n",
            "|false|/kgATFkG4SDyengNM...| [14, 28, 12]|455476|               en|            Knights of the Zo...|Quando um órfão d...|   292.303|/omPLRVEydDJdkXoB...|  2023-04-27|Os Cavaleiros do ...|false|         6.3|        49|\n",
            "|false|/5hoS3nEkGGXUfmnu...| [28, 12, 14]|960704|               ja|  鋼の錬金術師 完結編 最後の錬成|Acompanhe a últim...|    82.899|/uMzOYHGiHEfknowT...|  2022-06-24|Fullmetal Alchemi...|false|         6.3|       154|\n",
            "|false|/yaze6df9AMIA9oeD...| [14, 28, 12]|960700|               ja|鋼の錬金術師 完結編 復讐者スカー|Os s irmãos Elric...|    53.831|/qsgF3IyWmNOnYqNt...|  2022-05-20|Fullmetal Alchemi...|false|         6.8|       176|\n",
            "|false|/8RKBHHRqOMOLh5qW...|[28, 878, 12]|399579|               en|             Alita: Battle Angel|Abandonada em um ...|    45.745|/xUOP8nSOcwymKeOS...|  2019-01-31|Alita: Anjo de Co...|false|         7.2|      8212|\n",
            "|false|/nDP33LmQwNsnPv29...| [28, 12, 14]|447404|               en|            Pokémon Detective...|O desaparecimento...|    49.554|/p72utWsmz5ZAmvVQ...|  2019-05-10|Pokémon: Detetive...|false|         7.0|      6120|\n",
            "+-----+--------------------+-------------+------+-----------------+--------------------------------+--------------------+----------+--------------------+------------+--------------------+-----+------------+----------+\n",
            "only showing top 5 rows\n",
            "\n",
            "+-------------+------+-----------------+--------------------------------+--------------------+----------+------------+--------------------+------------+----------+\n",
            "|    genre_ids|    id|original_language|                  original_title|            overview|popularity|release_date|               title|vote_average|vote_count|\n",
            "+-------------+------+-----------------+--------------------------------+--------------------+----------+------------+--------------------+------------+----------+\n",
            "| [14, 28, 12]|455476|               en|            Knights of the Zo...|Quando um órfão d...|   292.303|  2023-04-27|Os Cavaleiros do ...|         6.3|        49|\n",
            "| [28, 12, 14]|960704|               ja|  鋼の錬金術師 完結編 最後の錬成|Acompanhe a últim...|    82.899|  2022-06-24|Fullmetal Alchemi...|         6.3|       154|\n",
            "| [14, 28, 12]|960700|               ja|鋼の錬金術師 完結編 復讐者スカー|Os s irmãos Elric...|    53.831|  2022-05-20|Fullmetal Alchemi...|         6.8|       176|\n",
            "|[28, 878, 12]|399579|               en|             Alita: Battle Angel|Abandonada em um ...|    45.745|  2019-01-31|Alita: Anjo de Co...|         7.2|      8212|\n",
            "| [28, 12, 14]|447404|               en|            Pokémon Detective...|O desaparecimento...|    49.554|  2019-05-10|Pokémon: Detetive...|         7.0|      6120|\n",
            "+-------------+------+-----------------+--------------------------------+--------------------+----------+------------+--------------------+------------+----------+\n",
            "only showing top 5 rows\n",
            "\n"
          ]
        }
      ],
      "source": [
        "df_TMDB_filmes_resultado = df_movies_TMDB.drop('adult','backdrop_path','poster_path','video')\n",
        "\n",
        "df_movies_TMDB.show(5)\n",
        "df_TMDB_filmes_resultado.show(5)"
      ]
    },
    {
      "attachments": {},
      "cell_type": "markdown",
      "metadata": {},
      "source": [
        "## 6."
      ]
    },
    {
      "cell_type": "code",
      "execution_count": 10,
      "metadata": {},
      "outputs": [
        {
          "name": "stderr",
          "output_type": "stream",
          "text": [
            "ERROR:root:KeyboardInterrupt while sending command.==>              (6 + 2) / 8]\n",
            "Traceback (most recent call last):\n",
            "  File \"/home/fmenegolo/.asdf/installs/python/3.9.1/lib/python3.9/site-packages/py4j/java_gateway.py\", line 1038, in send_command\n",
            "    response = connection.send_command(command)\n",
            "  File \"/home/fmenegolo/.asdf/installs/python/3.9.1/lib/python3.9/site-packages/py4j/clientserver.py\", line 511, in send_command\n",
            "    answer = smart_decode(self.stream.readline()[:-1])\n",
            "  File \"/home/fmenegolo/.asdf/installs/python/3.9.1/lib/python3.9/socket.py\", line 704, in readinto\n",
            "    return self._sock.recv_into(b)\n",
            "KeyboardInterrupt\n",
            "                                                                                \r"
          ]
        },
        {
          "ename": "KeyboardInterrupt",
          "evalue": "",
          "output_type": "error",
          "traceback": [
            "\u001b[0;31m---------------------------------------------------------------------------\u001b[0m",
            "\u001b[0;31mKeyboardInterrupt\u001b[0m                         Traceback (most recent call last)",
            "Cell \u001b[0;32mIn[10], line 16\u001b[0m\n\u001b[1;32m      1\u001b[0m \u001b[39m\"\"\"\u001b[39;00m\n\u001b[1;32m      2\u001b[0m \u001b[39m# Salvar df_IMDB_Filmes_resultado em formato Parquet\u001b[39;00m\n\u001b[1;32m      3\u001b[0m \u001b[39mdf_IMDB_Filmes_resultado.write.csv(\"/mnt/wsl/PHYSICALDRIVE2/Projects/Compasso/Azimute/Sprint_9/Desafio03_ETL/Tarefa_03/salvar_csv/df_IMDB_filtrado_filmes.csv\")\u001b[39;00m\n\u001b[0;32m   (...)\u001b[0m\n\u001b[1;32m     12\u001b[0m \u001b[39mdf_TMDB_filmes_resultado.write.csv(\"/mnt/wsl/PHYSICALDRIVE2/Projects/Compasso/Azimute/Sprint_9/Desafio03_ETL/Tarefa_03/salvar_csv/df_TMDB_Series_resultado.csv\")\u001b[39;00m\n\u001b[1;32m     13\u001b[0m \u001b[39m\"\"\"\u001b[39;00m\n\u001b[0;32m---> 16\u001b[0m df_IMDB_Series_resultado\u001b[39m.\u001b[39;49mwrite\u001b[39m.\u001b[39;49mcsv(\u001b[39m\"\u001b[39;49m\u001b[39m/mnt/wsl/PHYSICALDRIVE2/Projects/Compasso/Azimute/Sprint_9/Desafio03_ETL/Tarefa_03/salvar_csv/df_TMDB_Series_resultado2.csv\u001b[39;49m\u001b[39m\"\u001b[39;49m)\n",
            "File \u001b[0;32m/opt/apache-spark/python/pyspark/sql/readwriter.py:1240\u001b[0m, in \u001b[0;36mDataFrameWriter.csv\u001b[0;34m(self, path, mode, compression, sep, quote, escape, header, nullValue, escapeQuotes, quoteAll, dateFormat, timestampFormat, ignoreLeadingWhiteSpace, ignoreTrailingWhiteSpace, charToEscapeQuoteEscaping, encoding, emptyValue, lineSep)\u001b[0m\n\u001b[1;32m   1221\u001b[0m \u001b[39mself\u001b[39m\u001b[39m.\u001b[39mmode(mode)\n\u001b[1;32m   1222\u001b[0m \u001b[39mself\u001b[39m\u001b[39m.\u001b[39m_set_opts(\n\u001b[1;32m   1223\u001b[0m     compression\u001b[39m=\u001b[39mcompression,\n\u001b[1;32m   1224\u001b[0m     sep\u001b[39m=\u001b[39msep,\n\u001b[0;32m   (...)\u001b[0m\n\u001b[1;32m   1238\u001b[0m     lineSep\u001b[39m=\u001b[39mlineSep,\n\u001b[1;32m   1239\u001b[0m )\n\u001b[0;32m-> 1240\u001b[0m \u001b[39mself\u001b[39;49m\u001b[39m.\u001b[39;49m_jwrite\u001b[39m.\u001b[39;49mcsv(path)\n",
            "File \u001b[0;32m~/.asdf/installs/python/3.9.1/lib/python3.9/site-packages/py4j/java_gateway.py:1320\u001b[0m, in \u001b[0;36mJavaMember.__call__\u001b[0;34m(self, *args)\u001b[0m\n\u001b[1;32m   1313\u001b[0m args_command, temp_args \u001b[39m=\u001b[39m \u001b[39mself\u001b[39m\u001b[39m.\u001b[39m_build_args(\u001b[39m*\u001b[39margs)\n\u001b[1;32m   1315\u001b[0m command \u001b[39m=\u001b[39m proto\u001b[39m.\u001b[39mCALL_COMMAND_NAME \u001b[39m+\u001b[39m\\\n\u001b[1;32m   1316\u001b[0m     \u001b[39mself\u001b[39m\u001b[39m.\u001b[39mcommand_header \u001b[39m+\u001b[39m\\\n\u001b[1;32m   1317\u001b[0m     args_command \u001b[39m+\u001b[39m\\\n\u001b[1;32m   1318\u001b[0m     proto\u001b[39m.\u001b[39mEND_COMMAND_PART\n\u001b[0;32m-> 1320\u001b[0m answer \u001b[39m=\u001b[39m \u001b[39mself\u001b[39;49m\u001b[39m.\u001b[39;49mgateway_client\u001b[39m.\u001b[39;49msend_command(command)\n\u001b[1;32m   1321\u001b[0m return_value \u001b[39m=\u001b[39m get_return_value(\n\u001b[1;32m   1322\u001b[0m     answer, \u001b[39mself\u001b[39m\u001b[39m.\u001b[39mgateway_client, \u001b[39mself\u001b[39m\u001b[39m.\u001b[39mtarget_id, \u001b[39mself\u001b[39m\u001b[39m.\u001b[39mname)\n\u001b[1;32m   1324\u001b[0m \u001b[39mfor\u001b[39;00m temp_arg \u001b[39min\u001b[39;00m temp_args:\n",
            "File \u001b[0;32m~/.asdf/installs/python/3.9.1/lib/python3.9/site-packages/py4j/java_gateway.py:1038\u001b[0m, in \u001b[0;36mGatewayClient.send_command\u001b[0;34m(self, command, retry, binary)\u001b[0m\n\u001b[1;32m   1036\u001b[0m connection \u001b[39m=\u001b[39m \u001b[39mself\u001b[39m\u001b[39m.\u001b[39m_get_connection()\n\u001b[1;32m   1037\u001b[0m \u001b[39mtry\u001b[39;00m:\n\u001b[0;32m-> 1038\u001b[0m     response \u001b[39m=\u001b[39m connection\u001b[39m.\u001b[39;49msend_command(command)\n\u001b[1;32m   1039\u001b[0m     \u001b[39mif\u001b[39;00m binary:\n\u001b[1;32m   1040\u001b[0m         \u001b[39mreturn\u001b[39;00m response, \u001b[39mself\u001b[39m\u001b[39m.\u001b[39m_create_connection_guard(connection)\n",
            "File \u001b[0;32m~/.asdf/installs/python/3.9.1/lib/python3.9/site-packages/py4j/clientserver.py:511\u001b[0m, in \u001b[0;36mClientServerConnection.send_command\u001b[0;34m(self, command)\u001b[0m\n\u001b[1;32m    509\u001b[0m \u001b[39mtry\u001b[39;00m:\n\u001b[1;32m    510\u001b[0m     \u001b[39mwhile\u001b[39;00m \u001b[39mTrue\u001b[39;00m:\n\u001b[0;32m--> 511\u001b[0m         answer \u001b[39m=\u001b[39m smart_decode(\u001b[39mself\u001b[39;49m\u001b[39m.\u001b[39;49mstream\u001b[39m.\u001b[39;49mreadline()[:\u001b[39m-\u001b[39m\u001b[39m1\u001b[39m])\n\u001b[1;32m    512\u001b[0m         logger\u001b[39m.\u001b[39mdebug(\u001b[39m\"\u001b[39m\u001b[39mAnswer received: \u001b[39m\u001b[39m{0}\u001b[39;00m\u001b[39m\"\u001b[39m\u001b[39m.\u001b[39mformat(answer))\n\u001b[1;32m    513\u001b[0m         \u001b[39m# Happens when a the other end is dead. There might be an empty\u001b[39;00m\n\u001b[1;32m    514\u001b[0m         \u001b[39m# answer before the socket raises an error.\u001b[39;00m\n",
            "File \u001b[0;32m~/.asdf/installs/python/3.9.1/lib/python3.9/socket.py:704\u001b[0m, in \u001b[0;36mSocketIO.readinto\u001b[0;34m(self, b)\u001b[0m\n\u001b[1;32m    702\u001b[0m \u001b[39mwhile\u001b[39;00m \u001b[39mTrue\u001b[39;00m:\n\u001b[1;32m    703\u001b[0m     \u001b[39mtry\u001b[39;00m:\n\u001b[0;32m--> 704\u001b[0m         \u001b[39mreturn\u001b[39;00m \u001b[39mself\u001b[39;49m\u001b[39m.\u001b[39;49m_sock\u001b[39m.\u001b[39;49mrecv_into(b)\n\u001b[1;32m    705\u001b[0m     \u001b[39mexcept\u001b[39;00m timeout:\n\u001b[1;32m    706\u001b[0m         \u001b[39mself\u001b[39m\u001b[39m.\u001b[39m_timeout_occurred \u001b[39m=\u001b[39m \u001b[39mTrue\u001b[39;00m\n",
            "\u001b[0;31mKeyboardInterrupt\u001b[0m: "
          ]
        }
      ],
      "source": [
        "\"\"\"\n",
        "# Salvar df_IMDB_Filmes_resultado em formato Parquet\n",
        "df_IMDB_Filmes_resultado.write.csv(\"/mnt/wsl/PHYSICALDRIVE2/Projects/Compasso/Azimute/Sprint_9/Desafio03_ETL/Tarefa_03/salvar_csv/df_IMDB_filtrado_filmes.csv\")\n",
        "\n",
        "# Salvar df_IMDB_Series_resultado em formato Parquet\n",
        "df_IMDB_Series_resultado.write.csv(\"/mnt/wsl/PHYSICALDRIVE2/Projects/Compasso/Azimute/Sprint_9/Desafio03_ETL/Tarefa_03/salvar_csv/df_IMDB_filtrado_series.csv\")\n",
        "\n",
        "# Salvar df_TMDB_Series_resultado em formato Parquet\n",
        "df_TMDB_Series_resultado.write.csv(\"/mnt/wsl/PHYSICALDRIVE2/Projects/Compasso/Azimute/Sprint_9/Desafio03_ETL/Tarefa_03/salvar_csv/df_IMDB_Series_resultado.scv\")\n",
        "\n",
        "# Salvar df_df_TMDB_filmes_resultado em formato Parquet\n",
        "df_TMDB_filmes_resultado.write.csv(\"/mnt/wsl/PHYSICALDRIVE2/Projects/Compasso/Azimute/Sprint_9/Desafio03_ETL/Tarefa_03/salvar_csv/df_TMDB_Series_resultado.csv\")\n",
        "\"\"\"\n",
        "\n",
        "\n",
        "#df_IMDB_Series_resultado.write.csv(\"/mnt/wsl/PHYSICALDRIVE2/Projects/Compasso/Azimute/Sprint_9/Desafio03_ETL/Tarefa_03/salvar_csv/df_TMDB_Series_resultado2.csv\")\n"
      ]
    }
  ],
  "metadata": {
    "colab": {
      "provenance": []
    },
    "kernelspec": {
      "display_name": "Python 3",
      "language": "python",
      "name": "python3"
    },
    "language_info": {
      "codemirror_mode": {
        "name": "ipython",
        "version": 3
      },
      "file_extension": ".py",
      "mimetype": "text/x-python",
      "name": "python",
      "nbconvert_exporter": "python",
      "pygments_lexer": "ipython3",
      "version": "3.9.1"
    },
    "orig_nbformat": 4
  },
  "nbformat": 4,
  "nbformat_minor": 0
}
